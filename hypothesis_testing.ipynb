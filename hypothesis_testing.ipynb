{
 "cells": [
  {
   "cell_type": "markdown",
   "id": "aea8b5c3",
   "metadata": {},
   "source": [
    "# =======================================================================================================\n",
    "# Overview (3) START\n",
    "# ======================================================================================================="
   ]
  },
  {
   "cell_type": "markdown",
   "id": "7750bef7",
   "metadata": {},
   "source": [
    "##### For each of the following questions, formulate a null and alternative hypothesis (be as specific as you can be), then give an example of what a true positive, true negative, type I and type II errors would look like. Note that some of the questions are intentionally phrased in a vague way. It is your job to reword these as more precise questions that could be tested."
   ]
  },
  {
   "cell_type": "code",
   "execution_count": 172,
   "id": "ea575c48",
   "metadata": {},
   "outputs": [],
   "source": [
    "import numpy as np\n",
    "import pandas as pd\n",
    "import seaborn as sns\n",
    "import matplotlib.pyplot as plt\n",
    "import scipy.stats as stats\n",
    "from pydataset import data\n",
    "import env\n",
    "import datetime"
   ]
  },
  {
   "cell_type": "markdown",
   "id": "c8f2c17e",
   "metadata": {},
   "source": [
    "### 1. Has the network latency gone up since we switched internet service providers?"
   ]
  },
  {
   "cell_type": "code",
   "execution_count": null,
   "id": "6667998a",
   "metadata": {},
   "outputs": [],
   "source": [
    "# H0: Network latency is the same or less since\n",
    "# switching internet providers\n",
    "\n",
    "# Ha: Network latency increased since switching\n",
    "# internet providers\n",
    "\n",
    "# True Pos: Network latency increased\n",
    "\n",
    "# True Neg: Network latency same or decreased\n",
    "\n",
    "# Type I Error: Network latency same or decreased\n",
    "\n",
    "# Type II Error: Network latency increased, but\n",
    "# assumed that it would be the same"
   ]
  },
  {
   "cell_type": "markdown",
   "id": "670b6945",
   "metadata": {},
   "source": [
    "### 2. Is the website redesign any good?"
   ]
  },
  {
   "cell_type": "code",
   "execution_count": null,
   "id": "ef47fcf6",
   "metadata": {},
   "outputs": [],
   "source": [
    "# H0: Website redesign reviews were the same or\n",
    "# less positive than last website design\n",
    "\n",
    "# Ha: Website redesign reviews more positive than\n",
    "# last website design\n",
    "\n",
    "# True Pos: Website redesign reviews more positive\n",
    "\n",
    "# True Neg: Website redesign reviews the same or\n",
    "# less positive\n",
    "\n",
    "# Type I Error: Website redesign reviews the same\n",
    "# or less positive\n",
    "\n",
    "# Type II Error: Website redesign reviews more positive,\n",
    "# but assumed it would be the same or less"
   ]
  },
  {
   "cell_type": "markdown",
   "id": "4e488136",
   "metadata": {},
   "source": [
    "### 3. Is our television ad driving more sales?"
   ]
  },
  {
   "cell_type": "code",
   "execution_count": null,
   "id": "b3d6d2d7",
   "metadata": {},
   "outputs": [],
   "source": [
    "# H0: TV ad is the same or less amount of sales\n",
    "# than last TV ad\n",
    "\n",
    "# Ha: TV ad is driving more sales than last TV ad\n",
    "\n",
    "# True Pos: TV ad has more sales\n",
    "\n",
    "# True Neg: TV ad has same or less sales\n",
    "\n",
    "# Type I Error: TV ad same or less sales\n",
    "\n",
    "# Type II Error: TV ad more sales, but assumed\n",
    "# that it would be the same or less"
   ]
  },
  {
   "cell_type": "markdown",
   "id": "1cb9000c",
   "metadata": {},
   "source": [
    "# =======================================================================================================\n",
    "# Overview (3) END\n",
    "# Overview (3) TO Comparison of Means (3)\n",
    "# Comparison of Means (3) START\n",
    "# ======================================================================================================="
   ]
  },
  {
   "cell_type": "markdown",
   "id": "a8ec8aa8",
   "metadata": {},
   "source": [
    "### 1. Answer with the type of test you would use (assume normal distribution):"
   ]
  },
  {
   "cell_type": "markdown",
   "id": "66245189",
   "metadata": {},
   "source": [
    "##### 1a. Is there a difference in grades of students on the second floor compared to grades of all students?"
   ]
  },
  {
   "cell_type": "code",
   "execution_count": null,
   "id": "c96c7083",
   "metadata": {},
   "outputs": [],
   "source": [
    "# H0: 2nd Floor student grades are similar to others\n",
    "# Ha: 2nd Floor students have a higher overall grade\n",
    "# one sample\n",
    "# two tail\n",
    "# stats.ttest_1samp(a, μth)"
   ]
  },
  {
   "cell_type": "markdown",
   "id": "4ffcdab5",
   "metadata": {},
   "source": [
    "##### 1b. Are adults who drink milk taller than adults who dont drink milk?"
   ]
  },
  {
   "cell_type": "code",
   "execution_count": null,
   "id": "977d2807",
   "metadata": {},
   "outputs": [],
   "source": [
    "# H0: Adults who drink milk are equal or shorter than those who do not\n",
    "# Ha: Adults who drink milk are taller than those who do not\n",
    "# two sample\n",
    "# one tail\n",
    "# stats.ttest_ind(drinkmilk, nomilk)"
   ]
  },
  {
   "cell_type": "markdown",
   "id": "6a0e1cbb",
   "metadata": {},
   "source": [
    "##### 1c. Is the the price of gas higher in texas or in new mexico?"
   ]
  },
  {
   "cell_type": "code",
   "execution_count": null,
   "id": "6e0735b0",
   "metadata": {},
   "outputs": [],
   "source": [
    "# H0: Gas is equal or lower in New Mexico than Texas\n",
    "# Ha: Gas is higher in New Mexico than Texas\n",
    "# two sample\n",
    "# one tail\n",
    "# stats.ttestt_ind(new_mexico, texas)"
   ]
  },
  {
   "cell_type": "markdown",
   "id": "bcc3780c",
   "metadata": {},
   "source": [
    "##### 1d. Are there differences in stress levels between students who take data science vs students who take web development vs students who take cloud academy?"
   ]
  },
  {
   "cell_type": "code",
   "execution_count": null,
   "id": "d0a674dd",
   "metadata": {},
   "outputs": [],
   "source": [
    "# H0: Gas is equal or lower in New Mexico than Texas\n",
    "# Ha: Gas is higher in New Mexico than Texas\n",
    "# three sample\n",
    "# two tail\n",
    "# stats.f_oneway()"
   ]
  },
  {
   "cell_type": "markdown",
   "id": "bce4877a",
   "metadata": {},
   "source": [
    "### 2. Ace Realty wants to determine whether the average time it takes to sell homes is different for its two offices. A sample of 40 sales from office #1 revealed a mean of 90 days and a standard deviation of 15 days. A sample of 50 sales from office #2 revealed a mean of 100 days and a standard deviation of 20 days. Use a .05 level of significance."
   ]
  },
  {
   "cell_type": "code",
   "execution_count": 52,
   "id": "e2feed3e",
   "metadata": {},
   "outputs": [],
   "source": [
    "# office 1 sample: 40\n",
    "# office 1 mean: 90\n",
    "# office 1 std: 15\n",
    "# office 2 sample: 50\n",
    "# office 2 mean: 100\n",
    "# office 2 std: 20\n",
    "# alpha: 0.05\n",
    "office_stat, office_p = stats.ttest_ind_from_stats(90, 15, 40, 100, 20, 50)"
   ]
  },
  {
   "cell_type": "code",
   "execution_count": 54,
   "id": "72d4b530",
   "metadata": {},
   "outputs": [
    {
     "data": {
      "text/plain": [
       "True"
      ]
     },
     "execution_count": 54,
     "metadata": {},
     "output_type": "execute_result"
    }
   ],
   "source": [
    "office_stat < 0"
   ]
  },
  {
   "cell_type": "code",
   "execution_count": 55,
   "id": "c7a26f52",
   "metadata": {},
   "outputs": [
    {
     "data": {
      "text/plain": [
       "True"
      ]
     },
     "execution_count": 55,
     "metadata": {},
     "output_type": "execute_result"
    }
   ],
   "source": [
    "office_p < 0.05"
   ]
  },
  {
   "cell_type": "code",
   "execution_count": 56,
   "id": "8975e558",
   "metadata": {},
   "outputs": [],
   "source": [
    "# ttable_stat: True\n",
    "# ttable_p: True\n",
    "# Office 1 takes less time than office 2"
   ]
  },
  {
   "cell_type": "markdown",
   "id": "75e795c4",
   "metadata": {},
   "source": [
    "### 3. Load the mpg dataset and use it to answer the following questions:"
   ]
  },
  {
   "cell_type": "code",
   "execution_count": 3,
   "id": "cacfa739",
   "metadata": {},
   "outputs": [],
   "source": [
    "mpg = data('mpg')"
   ]
  },
  {
   "cell_type": "code",
   "execution_count": 4,
   "id": "396beb42",
   "metadata": {},
   "outputs": [
    {
     "data": {
      "text/html": [
       "<div>\n",
       "<style scoped>\n",
       "    .dataframe tbody tr th:only-of-type {\n",
       "        vertical-align: middle;\n",
       "    }\n",
       "\n",
       "    .dataframe tbody tr th {\n",
       "        vertical-align: top;\n",
       "    }\n",
       "\n",
       "    .dataframe thead th {\n",
       "        text-align: right;\n",
       "    }\n",
       "</style>\n",
       "<table border=\"1\" class=\"dataframe\">\n",
       "  <thead>\n",
       "    <tr style=\"text-align: right;\">\n",
       "      <th></th>\n",
       "      <th>manufacturer</th>\n",
       "      <th>model</th>\n",
       "      <th>displ</th>\n",
       "      <th>year</th>\n",
       "      <th>cyl</th>\n",
       "      <th>trans</th>\n",
       "      <th>drv</th>\n",
       "      <th>cty</th>\n",
       "      <th>hwy</th>\n",
       "      <th>fl</th>\n",
       "      <th>class</th>\n",
       "    </tr>\n",
       "  </thead>\n",
       "  <tbody>\n",
       "    <tr>\n",
       "      <th>12</th>\n",
       "      <td>audi</td>\n",
       "      <td>a4 quattro</td>\n",
       "      <td>2.8</td>\n",
       "      <td>1999</td>\n",
       "      <td>6</td>\n",
       "      <td>auto(l5)</td>\n",
       "      <td>4</td>\n",
       "      <td>15</td>\n",
       "      <td>25</td>\n",
       "      <td>p</td>\n",
       "      <td>compact</td>\n",
       "    </tr>\n",
       "  </tbody>\n",
       "</table>\n",
       "</div>"
      ],
      "text/plain": [
       "   manufacturer       model  displ  year  cyl     trans drv  cty  hwy fl  \\\n",
       "12         audi  a4 quattro    2.8  1999    6  auto(l5)   4   15   25  p   \n",
       "\n",
       "      class  \n",
       "12  compact  "
      ]
     },
     "execution_count": 4,
     "metadata": {},
     "output_type": "execute_result"
    }
   ],
   "source": [
    "mpg.sample()"
   ]
  },
  {
   "cell_type": "markdown",
   "id": "f9f01da6",
   "metadata": {},
   "source": [
    "##### 3a. Is there a difference in fuel-efficiency in cars from 2008 vs 1999?"
   ]
  },
  {
   "cell_type": "code",
   "execution_count": null,
   "id": "f15ec1d9",
   "metadata": {},
   "outputs": [],
   "source": [
    "# H0: 2008 cars have equal or less mpg than 1999 cars\n",
    "# Ha: 2008 cars have more mpg than 1999 cars\n",
    "# Two samples\n",
    "# One tail"
   ]
  },
  {
   "cell_type": "code",
   "execution_count": 9,
   "id": "54f6cd26",
   "metadata": {},
   "outputs": [],
   "source": [
    "mpg['combined_mpg'] = (mpg.cty + mpg.hwy) / 2"
   ]
  },
  {
   "cell_type": "code",
   "execution_count": 11,
   "id": "d0d878df",
   "metadata": {},
   "outputs": [
    {
     "data": {
      "text/html": [
       "<div>\n",
       "<style scoped>\n",
       "    .dataframe tbody tr th:only-of-type {\n",
       "        vertical-align: middle;\n",
       "    }\n",
       "\n",
       "    .dataframe tbody tr th {\n",
       "        vertical-align: top;\n",
       "    }\n",
       "\n",
       "    .dataframe thead th {\n",
       "        text-align: right;\n",
       "    }\n",
       "</style>\n",
       "<table border=\"1\" class=\"dataframe\">\n",
       "  <thead>\n",
       "    <tr style=\"text-align: right;\">\n",
       "      <th></th>\n",
       "      <th>manufacturer</th>\n",
       "      <th>model</th>\n",
       "      <th>displ</th>\n",
       "      <th>year</th>\n",
       "      <th>cyl</th>\n",
       "      <th>trans</th>\n",
       "      <th>drv</th>\n",
       "      <th>cty</th>\n",
       "      <th>hwy</th>\n",
       "      <th>fl</th>\n",
       "      <th>class</th>\n",
       "      <th>combined_mpg</th>\n",
       "    </tr>\n",
       "  </thead>\n",
       "  <tbody>\n",
       "    <tr>\n",
       "      <th>188</th>\n",
       "      <td>toyota</td>\n",
       "      <td>camry solara</td>\n",
       "      <td>2.2</td>\n",
       "      <td>1999</td>\n",
       "      <td>4</td>\n",
       "      <td>manual(m5)</td>\n",
       "      <td>f</td>\n",
       "      <td>21</td>\n",
       "      <td>29</td>\n",
       "      <td>r</td>\n",
       "      <td>compact</td>\n",
       "      <td>25.0</td>\n",
       "    </tr>\n",
       "  </tbody>\n",
       "</table>\n",
       "</div>"
      ],
      "text/plain": [
       "    manufacturer         model  displ  year  cyl       trans drv  cty  hwy fl  \\\n",
       "188       toyota  camry solara    2.2  1999    4  manual(m5)   f   21   29  r   \n",
       "\n",
       "       class  combined_mpg  \n",
       "188  compact          25.0  "
      ]
     },
     "execution_count": 11,
     "metadata": {},
     "output_type": "execute_result"
    }
   ],
   "source": [
    "mpg.sample()"
   ]
  },
  {
   "cell_type": "code",
   "execution_count": 13,
   "id": "9bf788e8",
   "metadata": {},
   "outputs": [],
   "source": [
    "mpg_1999 = mpg[mpg.year == 1999].combined_mpg\n",
    "mpg_2008 = mpg[mpg.year == 2008].combined_mpg"
   ]
  },
  {
   "cell_type": "code",
   "execution_count": 39,
   "id": "de848dc3",
   "metadata": {},
   "outputs": [
    {
     "data": {
      "text/plain": [
       "LeveneResult(statistic=0.033228136671080453, pvalue=0.855517569468803)"
      ]
     },
     "execution_count": 39,
     "metadata": {},
     "output_type": "execute_result"
    }
   ],
   "source": [
    "# Levene: False\n",
    "stats.levene(mpg_2008, mpg_1999)"
   ]
  },
  {
   "cell_type": "code",
   "execution_count": 40,
   "id": "e6533b00",
   "metadata": {},
   "outputs": [],
   "source": [
    "mpg_stat, mpg_p = stats.ttest_ind(mpg_2008, mpg_1999, equal_var=False)"
   ]
  },
  {
   "cell_type": "code",
   "execution_count": 41,
   "id": "4e2aa392",
   "metadata": {},
   "outputs": [
    {
     "data": {
      "text/plain": [
       "False"
      ]
     },
     "execution_count": 41,
     "metadata": {},
     "output_type": "execute_result"
    }
   ],
   "source": [
    "mpg_stat > 0"
   ]
  },
  {
   "cell_type": "code",
   "execution_count": 42,
   "id": "b9bdeda9",
   "metadata": {},
   "outputs": [
    {
     "data": {
      "text/plain": [
       "False"
      ]
     },
     "execution_count": 42,
     "metadata": {},
     "output_type": "execute_result"
    }
   ],
   "source": [
    "(mpg_p / 2) < 0.05"
   ]
  },
  {
   "cell_type": "code",
   "execution_count": 19,
   "id": "1d8e29a4",
   "metadata": {},
   "outputs": [],
   "source": [
    "# Based off of tttest_ind:\n",
    "# null hypothesis is true\n",
    "# There isn't a strong difference in mpg"
   ]
  },
  {
   "cell_type": "markdown",
   "id": "3fb078ec",
   "metadata": {},
   "source": [
    "##### 3b. Are compact cars more fuel-efficient than the average car?"
   ]
  },
  {
   "cell_type": "code",
   "execution_count": 20,
   "id": "e4a3f1fa",
   "metadata": {},
   "outputs": [],
   "source": [
    "# H0: Compact cars have equal or less mpg than non-compact cars\n",
    "# Ha: Compact cars have better mpg than non-compact cars\n",
    "# Two samples\n",
    "# One Tail"
   ]
  },
  {
   "cell_type": "code",
   "execution_count": 28,
   "id": "2f232c8f",
   "metadata": {},
   "outputs": [
    {
     "data": {
      "text/plain": [
       "suv           62\n",
       "compact       47\n",
       "midsize       41\n",
       "subcompact    35\n",
       "pickup        33\n",
       "minivan       11\n",
       "2seater        5\n",
       "Name: class, dtype: int64"
      ]
     },
     "execution_count": 28,
     "metadata": {},
     "output_type": "execute_result"
    }
   ],
   "source": [
    "mpg['class'].value_counts()"
   ]
  },
  {
   "cell_type": "code",
   "execution_count": 34,
   "id": "091c50ee",
   "metadata": {},
   "outputs": [],
   "source": [
    "compact_mpg = mpg[mpg['class'] == 'compact'].combined_mpg\n",
    "noncompact_mpg = mpg[mpg['class'] != 'compact'].combined_mpg"
   ]
  },
  {
   "cell_type": "code",
   "execution_count": 38,
   "id": "2e125c7b",
   "metadata": {},
   "outputs": [
    {
     "data": {
      "text/plain": [
       "True"
      ]
     },
     "execution_count": 38,
     "metadata": {},
     "output_type": "execute_result"
    }
   ],
   "source": [
    "# Levene: True... Inequal variance\n",
    "stats.levene(compact_mpg, noncompact_mpg)[1] < 0.05"
   ]
  },
  {
   "cell_type": "code",
   "execution_count": 46,
   "id": "8db1ec44",
   "metadata": {},
   "outputs": [],
   "source": [
    "compact_stat, compact_p = stats.ttest_ind(compact_mpg, noncompact_mpg)"
   ]
  },
  {
   "cell_type": "code",
   "execution_count": 49,
   "id": "ad0089a3",
   "metadata": {},
   "outputs": [
    {
     "data": {
      "text/plain": [
       "True"
      ]
     },
     "execution_count": 49,
     "metadata": {},
     "output_type": "execute_result"
    }
   ],
   "source": [
    "(compact_p / 2) < 0.05"
   ]
  },
  {
   "cell_type": "code",
   "execution_count": 47,
   "id": "1f1b3d11",
   "metadata": {},
   "outputs": [
    {
     "data": {
      "text/plain": [
       "True"
      ]
     },
     "execution_count": 47,
     "metadata": {},
     "output_type": "execute_result"
    }
   ],
   "source": [
    "compact_stat > 0"
   ]
  },
  {
   "cell_type": "code",
   "execution_count": null,
   "id": "0a700d71",
   "metadata": {},
   "outputs": [],
   "source": [
    "# levene: True\n",
    "# ttest_p: True\n",
    "# ttest_stat: True\n",
    "# Compact cars do have better mpg than non-compact"
   ]
  },
  {
   "cell_type": "markdown",
   "id": "46bb6b3e",
   "metadata": {},
   "source": [
    "##### 3c. Do manual cars get better gas mileage than automatic cars?"
   ]
  },
  {
   "cell_type": "code",
   "execution_count": 71,
   "id": "f40c964b",
   "metadata": {},
   "outputs": [],
   "source": [
    "# H0: Manual cars have equal or less mpg than auto cars\n",
    "# Ha: Manual cars have higher mpg than auto cars\n",
    "\n",
    "# Levene: False\n",
    "# ttable_stat: True\n",
    "# ttable_p: True\n",
    "\n",
    "# H0 or Ha?: Ha\n",
    "# Manual cars get better mpg than auto cars"
   ]
  },
  {
   "cell_type": "code",
   "execution_count": 65,
   "id": "db38bc17",
   "metadata": {},
   "outputs": [],
   "source": [
    "auto_mpg = mpg[mpg.trans.str.startswith('auto')].combined_mpg\n",
    "manual_mpg = mpg[mpg.trans.str.startswith('manual')].combined_mpg"
   ]
  },
  {
   "cell_type": "code",
   "execution_count": 66,
   "id": "f585fe66",
   "metadata": {},
   "outputs": [
    {
     "data": {
      "text/plain": [
       "LeveneResult(statistic=0.20075824847529639, pvalue=0.6545276355131857)"
      ]
     },
     "execution_count": 66,
     "metadata": {},
     "output_type": "execute_result"
    }
   ],
   "source": [
    "stats.levene(manual_mpg, auto_mpg)"
   ]
  },
  {
   "cell_type": "code",
   "execution_count": 68,
   "id": "15cc9aae",
   "metadata": {},
   "outputs": [],
   "source": [
    "trans_stat, trans_p = stats.ttest_ind(manual_mpg, auto_mpg, equal_var=False)"
   ]
  },
  {
   "cell_type": "code",
   "execution_count": 69,
   "id": "55b39a57",
   "metadata": {},
   "outputs": [
    {
     "data": {
      "text/plain": [
       "True"
      ]
     },
     "execution_count": 69,
     "metadata": {},
     "output_type": "execute_result"
    }
   ],
   "source": [
    "trans_stat > 0"
   ]
  },
  {
   "cell_type": "code",
   "execution_count": 70,
   "id": "34545fb8",
   "metadata": {},
   "outputs": [
    {
     "data": {
      "text/plain": [
       "True"
      ]
     },
     "execution_count": 70,
     "metadata": {},
     "output_type": "execute_result"
    }
   ],
   "source": [
    "(trans_p / 2) < 0.05"
   ]
  },
  {
   "cell_type": "markdown",
   "id": "7b13ef05",
   "metadata": {},
   "source": [
    "# =======================================================================================================\n",
    "# Comparison of Means (3) END\n",
    "# Comparison of Means (3) TO Correlation (4)\n",
    "# Correlation (4) START\n",
    "# ======================================================================================================="
   ]
  },
  {
   "cell_type": "markdown",
   "id": "7d4f615e",
   "metadata": {},
   "source": [
    "### 1. Answer with the type of stats test you would use (assume normal distribution):"
   ]
  },
  {
   "cell_type": "markdown",
   "id": "4f19b9b6",
   "metadata": {},
   "source": [
    "##### 1a. Is there a relationship between the length of your arm and the length of your foot?"
   ]
  },
  {
   "cell_type": "code",
   "execution_count": null,
   "id": "0148f53b",
   "metadata": {},
   "outputs": [],
   "source": [
    "# two samples\n",
    "# Continuous vs Continuous\n",
    "# stats.ttest(arm, foot)"
   ]
  },
  {
   "cell_type": "markdown",
   "id": "66800b7d",
   "metadata": {},
   "source": [
    "##### 1b. Do guys and gals quit their jobs at the same rate?"
   ]
  },
  {
   "cell_type": "code",
   "execution_count": null,
   "id": "51a99548",
   "metadata": {},
   "outputs": [],
   "source": [
    "# two samples\n",
    "# Discrete vs Discrete\n",
    "# stats.chi2_contingency(observed<guy & gal>)"
   ]
  },
  {
   "cell_type": "markdown",
   "id": "3669b591",
   "metadata": {},
   "source": [
    "##### 1c. Does the length of time of the lecture correlate with a students grade?"
   ]
  },
  {
   "cell_type": "code",
   "execution_count": null,
   "id": "c9adc784",
   "metadata": {},
   "outputs": [],
   "source": [
    "# two samples\n",
    "# Discrete vs Continuous\n",
    "# stats.chi"
   ]
  },
  {
   "cell_type": "markdown",
   "id": "29b57097",
   "metadata": {},
   "source": [
    "### 2. Use the telco_churn data."
   ]
  },
  {
   "cell_type": "code",
   "execution_count": 92,
   "id": "e9d1de7e",
   "metadata": {
    "scrolled": true
   },
   "outputs": [],
   "source": [
    "telco = pd.read_csv('telco_data.csv', sep = '\\t', encoding='UTF-16')"
   ]
  },
  {
   "cell_type": "code",
   "execution_count": 93,
   "id": "01a26c4b",
   "metadata": {},
   "outputs": [
    {
     "data": {
      "text/html": [
       "<div>\n",
       "<style scoped>\n",
       "    .dataframe tbody tr th:only-of-type {\n",
       "        vertical-align: middle;\n",
       "    }\n",
       "\n",
       "    .dataframe tbody tr th {\n",
       "        vertical-align: top;\n",
       "    }\n",
       "\n",
       "    .dataframe thead th {\n",
       "        text-align: right;\n",
       "    }\n",
       "</style>\n",
       "<table border=\"1\" class=\"dataframe\">\n",
       "  <thead>\n",
       "    <tr style=\"text-align: right;\">\n",
       "      <th></th>\n",
       "      <th>Add-on Count</th>\n",
       "      <th>Churn</th>\n",
       "      <th>Contract</th>\n",
       "      <th>Customer ID</th>\n",
       "      <th>Dependents</th>\n",
       "      <th>Device Protection</th>\n",
       "      <th>Gender</th>\n",
       "      <th>Internet Service</th>\n",
       "      <th>Multiple Lines</th>\n",
       "      <th>Online Backup</th>\n",
       "      <th>...</th>\n",
       "      <th>Tech Support</th>\n",
       "      <th>with Online Backup</th>\n",
       "      <th>with Online Security</th>\n",
       "      <th>with Streaming Movies</th>\n",
       "      <th>with Streaming TV</th>\n",
       "      <th>with Tech Support</th>\n",
       "      <th>Estimated Tenure(months)</th>\n",
       "      <th>Monthly Charges</th>\n",
       "      <th>Tenure</th>\n",
       "      <th>Total Charges</th>\n",
       "    </tr>\n",
       "  </thead>\n",
       "  <tbody>\n",
       "    <tr>\n",
       "      <th>0</th>\n",
       "      <td>0</td>\n",
       "      <td>No</td>\n",
       "      <td>Month-to-month</td>\n",
       "      <td>7590-VHVEG</td>\n",
       "      <td>None</td>\n",
       "      <td>Device Wiithout Protection</td>\n",
       "      <td>Female</td>\n",
       "      <td>DSL</td>\n",
       "      <td>No phone service</td>\n",
       "      <td>Online Backup</td>\n",
       "      <td>...</td>\n",
       "      <td>Support Not Contacted</td>\n",
       "      <td>0</td>\n",
       "      <td>0</td>\n",
       "      <td>0</td>\n",
       "      <td>0</td>\n",
       "      <td>0</td>\n",
       "      <td>1.0</td>\n",
       "      <td>29.85</td>\n",
       "      <td>1</td>\n",
       "      <td>29.85</td>\n",
       "    </tr>\n",
       "    <tr>\n",
       "      <th>1</th>\n",
       "      <td>0</td>\n",
       "      <td>No</td>\n",
       "      <td>One year</td>\n",
       "      <td>5575-GNVDE</td>\n",
       "      <td>None</td>\n",
       "      <td>Protected Device</td>\n",
       "      <td>Male</td>\n",
       "      <td>DSL</td>\n",
       "      <td>Single Line</td>\n",
       "      <td>Internet With No Backup</td>\n",
       "      <td>...</td>\n",
       "      <td>Support Not Contacted</td>\n",
       "      <td>0</td>\n",
       "      <td>0</td>\n",
       "      <td>0</td>\n",
       "      <td>0</td>\n",
       "      <td>0</td>\n",
       "      <td>33.0</td>\n",
       "      <td>56.95</td>\n",
       "      <td>34</td>\n",
       "      <td>1889.50</td>\n",
       "    </tr>\n",
       "    <tr>\n",
       "      <th>2</th>\n",
       "      <td>0</td>\n",
       "      <td>Yes</td>\n",
       "      <td>Month-to-month</td>\n",
       "      <td>3668-QPYBK</td>\n",
       "      <td>None</td>\n",
       "      <td>Device Wiithout Protection</td>\n",
       "      <td>Male</td>\n",
       "      <td>DSL</td>\n",
       "      <td>Single Line</td>\n",
       "      <td>Online Backup</td>\n",
       "      <td>...</td>\n",
       "      <td>Support Not Contacted</td>\n",
       "      <td>0</td>\n",
       "      <td>0</td>\n",
       "      <td>0</td>\n",
       "      <td>0</td>\n",
       "      <td>0</td>\n",
       "      <td>2.0</td>\n",
       "      <td>53.85</td>\n",
       "      <td>2</td>\n",
       "      <td>108.15</td>\n",
       "    </tr>\n",
       "    <tr>\n",
       "      <th>3</th>\n",
       "      <td>0</td>\n",
       "      <td>No</td>\n",
       "      <td>One year</td>\n",
       "      <td>7795-CFOCW</td>\n",
       "      <td>None</td>\n",
       "      <td>Protected Device</td>\n",
       "      <td>Male</td>\n",
       "      <td>DSL</td>\n",
       "      <td>No phone service</td>\n",
       "      <td>Internet With No Backup</td>\n",
       "      <td>...</td>\n",
       "      <td>Has a Support Ticket</td>\n",
       "      <td>0</td>\n",
       "      <td>0</td>\n",
       "      <td>0</td>\n",
       "      <td>0</td>\n",
       "      <td>0</td>\n",
       "      <td>43.0</td>\n",
       "      <td>42.30</td>\n",
       "      <td>45</td>\n",
       "      <td>1840.75</td>\n",
       "    </tr>\n",
       "    <tr>\n",
       "      <th>4</th>\n",
       "      <td>0</td>\n",
       "      <td>Yes</td>\n",
       "      <td>Month-to-month</td>\n",
       "      <td>9237-HQITU</td>\n",
       "      <td>None</td>\n",
       "      <td>Device Wiithout Protection</td>\n",
       "      <td>Female</td>\n",
       "      <td>Fiber optic</td>\n",
       "      <td>Single Line</td>\n",
       "      <td>Internet With No Backup</td>\n",
       "      <td>...</td>\n",
       "      <td>Support Not Contacted</td>\n",
       "      <td>0</td>\n",
       "      <td>0</td>\n",
       "      <td>0</td>\n",
       "      <td>0</td>\n",
       "      <td>0</td>\n",
       "      <td>2.0</td>\n",
       "      <td>70.70</td>\n",
       "      <td>2</td>\n",
       "      <td>151.65</td>\n",
       "    </tr>\n",
       "  </tbody>\n",
       "</table>\n",
       "<p>5 rows × 29 columns</p>\n",
       "</div>"
      ],
      "text/plain": [
       "   Add-on Count Churn        Contract Customer ID Dependents  \\\n",
       "0             0    No  Month-to-month  7590-VHVEG       None   \n",
       "1             0    No        One year  5575-GNVDE       None   \n",
       "2             0   Yes  Month-to-month  3668-QPYBK       None   \n",
       "3             0    No        One year  7795-CFOCW       None   \n",
       "4             0   Yes  Month-to-month  9237-HQITU       None   \n",
       "\n",
       "            Device Protection  Gender Internet Service    Multiple Lines  \\\n",
       "0  Device Wiithout Protection  Female              DSL  No phone service   \n",
       "1            Protected Device    Male              DSL       Single Line   \n",
       "2  Device Wiithout Protection    Male              DSL       Single Line   \n",
       "3            Protected Device    Male              DSL  No phone service   \n",
       "4  Device Wiithout Protection  Female      Fiber optic       Single Line   \n",
       "\n",
       "             Online Backup  ...           Tech Support with Online Backup  \\\n",
       "0            Online Backup  ...  Support Not Contacted                  0   \n",
       "1  Internet With No Backup  ...  Support Not Contacted                  0   \n",
       "2            Online Backup  ...  Support Not Contacted                  0   \n",
       "3  Internet With No Backup  ...   Has a Support Ticket                  0   \n",
       "4  Internet With No Backup  ...  Support Not Contacted                  0   \n",
       "\n",
       "  with Online Security with Streaming Movies with Streaming TV  \\\n",
       "0                    0                     0                 0   \n",
       "1                    0                     0                 0   \n",
       "2                    0                     0                 0   \n",
       "3                    0                     0                 0   \n",
       "4                    0                     0                 0   \n",
       "\n",
       "  with Tech Support Estimated Tenure(months) Monthly Charges Tenure  \\\n",
       "0                 0                      1.0           29.85      1   \n",
       "1                 0                     33.0           56.95     34   \n",
       "2                 0                      2.0           53.85      2   \n",
       "3                 0                     43.0           42.30     45   \n",
       "4                 0                      2.0           70.70      2   \n",
       "\n",
       "  Total Charges  \n",
       "0         29.85  \n",
       "1       1889.50  \n",
       "2        108.15  \n",
       "3       1840.75  \n",
       "4        151.65  \n",
       "\n",
       "[5 rows x 29 columns]"
      ]
     },
     "execution_count": 93,
     "metadata": {},
     "output_type": "execute_result"
    }
   ],
   "source": [
    "telco.head()"
   ]
  },
  {
   "cell_type": "markdown",
   "id": "f61634e4",
   "metadata": {},
   "source": [
    "##### 2a. Does tenure correlate with monthly charges?"
   ]
  },
  {
   "cell_type": "code",
   "execution_count": 95,
   "id": "df26d8e2",
   "metadata": {},
   "outputs": [
    {
     "data": {
      "text/plain": [
       "PearsonRResult(statistic=0.24789985628615002, pvalue=4.0940449915016345e-99)"
      ]
     },
     "execution_count": 95,
     "metadata": {},
     "output_type": "execute_result"
    }
   ],
   "source": [
    "# Tenure: Discrete\n",
    "# Monthly Charges: Continuous\n",
    "# Correlation: No\n",
    "stats.pearsonr(telco.Tenure, telco['Monthly Charges'])"
   ]
  },
  {
   "cell_type": "markdown",
   "id": "b3fb5c55",
   "metadata": {},
   "source": [
    "##### 2b. Total charges?"
   ]
  },
  {
   "cell_type": "code",
   "execution_count": 105,
   "id": "317a9f5a",
   "metadata": {},
   "outputs": [
    {
     "data": {
      "text/plain": [
       "False    7032\n",
       "True       11\n",
       "Name: Total Charges, dtype: int64"
      ]
     },
     "execution_count": 105,
     "metadata": {},
     "output_type": "execute_result"
    }
   ],
   "source": [
    "telco['Total Charges'].isna().value_counts()"
   ]
  },
  {
   "cell_type": "code",
   "execution_count": 108,
   "id": "b4283411",
   "metadata": {},
   "outputs": [],
   "source": [
    "total_charges_nona = telco[telco['Total Charges'].isna() == False]"
   ]
  },
  {
   "cell_type": "code",
   "execution_count": 110,
   "id": "73eb5cbe",
   "metadata": {},
   "outputs": [
    {
     "data": {
      "text/plain": [
       "PearsonRResult(statistic=0.825880460933202, pvalue=0.0)"
      ]
     },
     "execution_count": 110,
     "metadata": {},
     "output_type": "execute_result"
    }
   ],
   "source": [
    "# Tenure: Discrete\n",
    "# Total Charges: Continuous\n",
    "# Correlation: Yes\n",
    "stats.pearsonr(total_charges_nona.Tenure, total_charges_nona['Total Charges'])"
   ]
  },
  {
   "cell_type": "markdown",
   "id": "00894d34",
   "metadata": {},
   "source": [
    "##### 2c. What happens if you control for phone and internet service?"
   ]
  },
  {
   "cell_type": "code",
   "execution_count": 117,
   "id": "7132ab0e",
   "metadata": {
    "scrolled": true
   },
   "outputs": [
    {
     "data": {
      "text/plain": [
       "Fiber optic    3096\n",
       "DSL            2421\n",
       "No             1526\n",
       "Name: Internet Service, dtype: int64"
      ]
     },
     "execution_count": 117,
     "metadata": {},
     "output_type": "execute_result"
    }
   ],
   "source": [
    "# Internet Service\n",
    "# Phone Service\n",
    "# Correlation: Yes\n",
    "telco['Internet Service'].value_counts()"
   ]
  },
  {
   "cell_type": "code",
   "execution_count": 118,
   "id": "766aa153",
   "metadata": {},
   "outputs": [
    {
     "data": {
      "text/plain": [
       "Subscribed      6361\n",
       "Unsubscribed     682\n",
       "Name: Phone Service, dtype: int64"
      ]
     },
     "execution_count": 118,
     "metadata": {},
     "output_type": "execute_result"
    }
   ],
   "source": [
    "telco['Phone Service'].value_counts()"
   ]
  },
  {
   "cell_type": "code",
   "execution_count": 120,
   "id": "c1199100",
   "metadata": {},
   "outputs": [
    {
     "data": {
      "text/html": [
       "<div>\n",
       "<style scoped>\n",
       "    .dataframe tbody tr th:only-of-type {\n",
       "        vertical-align: middle;\n",
       "    }\n",
       "\n",
       "    .dataframe tbody tr th {\n",
       "        vertical-align: top;\n",
       "    }\n",
       "\n",
       "    .dataframe thead th {\n",
       "        text-align: right;\n",
       "    }\n",
       "</style>\n",
       "<table border=\"1\" class=\"dataframe\">\n",
       "  <thead>\n",
       "    <tr style=\"text-align: right;\">\n",
       "      <th>Phone Service</th>\n",
       "      <th>Subscribed</th>\n",
       "      <th>Unsubscribed</th>\n",
       "    </tr>\n",
       "    <tr>\n",
       "      <th>Internet Service</th>\n",
       "      <th></th>\n",
       "      <th></th>\n",
       "    </tr>\n",
       "  </thead>\n",
       "  <tbody>\n",
       "    <tr>\n",
       "      <th>DSL</th>\n",
       "      <td>1739</td>\n",
       "      <td>682</td>\n",
       "    </tr>\n",
       "    <tr>\n",
       "      <th>Fiber optic</th>\n",
       "      <td>3096</td>\n",
       "      <td>0</td>\n",
       "    </tr>\n",
       "    <tr>\n",
       "      <th>No</th>\n",
       "      <td>1526</td>\n",
       "      <td>0</td>\n",
       "    </tr>\n",
       "  </tbody>\n",
       "</table>\n",
       "</div>"
      ],
      "text/plain": [
       "Phone Service     Subscribed  Unsubscribed\n",
       "Internet Service                          \n",
       "DSL                     1739           682\n",
       "Fiber optic             3096             0\n",
       "No                      1526             0"
      ]
     },
     "execution_count": 120,
     "metadata": {},
     "output_type": "execute_result"
    }
   ],
   "source": [
    "intphonecross = pd.crosstab(telco['Internet Service'], telco['Phone Service'])\n",
    "pd.crosstab(telco['Internet Service'], telco['Phone Service'])"
   ]
  },
  {
   "cell_type": "code",
   "execution_count": 121,
   "id": "f503b269",
   "metadata": {},
   "outputs": [
    {
     "data": {
      "text/plain": [
       "(1441.6233871976854,\n",
       " 0.0,\n",
       " 2,\n",
       " array([[2186.56552605,  234.43447395],\n",
       "        [2796.20275451,  299.79724549],\n",
       "        [1378.23171944,  147.76828056]]))"
      ]
     },
     "execution_count": 121,
     "metadata": {},
     "output_type": "execute_result"
    }
   ],
   "source": [
    "stats.chi2_contingency(intphonecross)"
   ]
  },
  {
   "cell_type": "markdown",
   "id": "11e60940",
   "metadata": {},
   "source": [
    "### 3. Use the employees database."
   ]
  },
  {
   "cell_type": "markdown",
   "id": "6f5270d5",
   "metadata": {},
   "source": [
    "##### 3a. Is there a relationship between how long an employee has been with the company and their salary?"
   ]
  },
  {
   "cell_type": "code",
   "execution_count": 200,
   "id": "f9c2c5e4",
   "metadata": {},
   "outputs": [],
   "source": [
    "# Employeed Length\n",
    "#     fromdate - todate(now)\n",
    "# Salary\n",
    "#     maxsalary - minsalary\n",
    "# Titles\n",
    "#     SUM(titles)\n",
    "# Correlation: YEET\n",
    "employees = pd.read_sql(\n",
    "    '''\n",
    "    SELECT \n",
    "        A.emp_no, \n",
    "        A.empdiffday, \n",
    "        B.salarydiff, \n",
    "        C.totaltitles\n",
    "    FROM\n",
    "        (SELECT emp_no, DATEDIFF(NOW(), hire_date) AS empdiffday FROM employees) AS A,\n",
    "        (SELECT emp_no, (MAX(salary) - MIN(salary)) AS salarydiff FROM salaries GROUP BY emp_no) AS B,\n",
    "        (SELECT emp_no, COUNT(title) AS totaltitles FROM titles GROUP BY emp_no) AS C\n",
    "    LIMIT 300024    \n",
    "    ''', env.get_db_url('employees'))"
   ]
  },
  {
   "cell_type": "code",
   "execution_count": 201,
   "id": "1646e8a9",
   "metadata": {},
   "outputs": [
    {
     "data": {
      "text/plain": [
       "(300024, 4)"
      ]
     },
     "execution_count": 201,
     "metadata": {},
     "output_type": "execute_result"
    }
   ],
   "source": [
    "employees.shape"
   ]
  },
  {
   "cell_type": "code",
   "execution_count": 202,
   "id": "16d2c29c",
   "metadata": {},
   "outputs": [
    {
     "data": {
      "text/html": [
       "<div>\n",
       "<style scoped>\n",
       "    .dataframe tbody tr th:only-of-type {\n",
       "        vertical-align: middle;\n",
       "    }\n",
       "\n",
       "    .dataframe tbody tr th {\n",
       "        vertical-align: top;\n",
       "    }\n",
       "\n",
       "    .dataframe thead th {\n",
       "        text-align: right;\n",
       "    }\n",
       "</style>\n",
       "<table border=\"1\" class=\"dataframe\">\n",
       "  <thead>\n",
       "    <tr style=\"text-align: right;\">\n",
       "      <th></th>\n",
       "      <th>emp_no</th>\n",
       "      <th>empdiffday</th>\n",
       "      <th>salarydiff</th>\n",
       "      <th>totaltitles</th>\n",
       "    </tr>\n",
       "  </thead>\n",
       "  <tbody>\n",
       "    <tr>\n",
       "      <th>197795</th>\n",
       "      <td>31063</td>\n",
       "      <td>11796</td>\n",
       "      <td>7046</td>\n",
       "      <td>1</td>\n",
       "    </tr>\n",
       "    <tr>\n",
       "      <th>35401</th>\n",
       "      <td>38865</td>\n",
       "      <td>10957</td>\n",
       "      <td>3693</td>\n",
       "      <td>1</td>\n",
       "    </tr>\n",
       "    <tr>\n",
       "      <th>257031</th>\n",
       "      <td>37931</td>\n",
       "      <td>11024</td>\n",
       "      <td>7017</td>\n",
       "      <td>1</td>\n",
       "    </tr>\n",
       "    <tr>\n",
       "      <th>158645</th>\n",
       "      <td>31189</td>\n",
       "      <td>12766</td>\n",
       "      <td>28901</td>\n",
       "      <td>1</td>\n",
       "    </tr>\n",
       "    <tr>\n",
       "      <th>286097</th>\n",
       "      <td>40813</td>\n",
       "      <td>12469</td>\n",
       "      <td>1413</td>\n",
       "      <td>1</td>\n",
       "    </tr>\n",
       "  </tbody>\n",
       "</table>\n",
       "</div>"
      ],
      "text/plain": [
       "        emp_no  empdiffday  salarydiff  totaltitles\n",
       "197795   31063       11796        7046            1\n",
       "35401    38865       10957        3693            1\n",
       "257031   37931       11024        7017            1\n",
       "158645   31189       12766       28901            1\n",
       "286097   40813       12469        1413            1"
      ]
     },
     "execution_count": 202,
     "metadata": {},
     "output_type": "execute_result"
    }
   ],
   "source": [
    "employees.sample(5)"
   ]
  },
  {
   "cell_type": "code",
   "execution_count": 203,
   "id": "1457e17d",
   "metadata": {},
   "outputs": [
    {
     "data": {
      "text/plain": [
       "PearsonRResult(statistic=0.00011117410060224185, pvalue=0.9514430346501251)"
      ]
     },
     "execution_count": 203,
     "metadata": {},
     "output_type": "execute_result"
    }
   ],
   "source": [
    "stats.pearsonr(employees.empdiffday, employees.salarydiff)"
   ]
  },
  {
   "cell_type": "markdown",
   "id": "ce8fd387",
   "metadata": {},
   "source": [
    "##### 3b. Is there a relationship between how long an employee has been with the company and the number of titles they have had?"
   ]
  },
  {
   "cell_type": "code",
   "execution_count": 204,
   "id": "9c72da1a",
   "metadata": {},
   "outputs": [
    {
     "data": {
      "text/plain": [
       "1    300024\n",
       "Name: totaltitles, dtype: int64"
      ]
     },
     "execution_count": 204,
     "metadata": {},
     "output_type": "execute_result"
    }
   ],
   "source": [
    "employees.totaltitles.value_counts()"
   ]
  },
  {
   "cell_type": "code",
   "execution_count": 206,
   "id": "9766cc67",
   "metadata": {},
   "outputs": [],
   "source": [
    "test = pd.read_sql(\n",
    "    '''\n",
    "    SELECT emp_no, COUNT(title)\n",
    "    FROM titles\n",
    "    GROUP BY emp_no\n",
    "    ''', env.get_db_url('employees'))"
   ]
  },
  {
   "cell_type": "code",
   "execution_count": 210,
   "id": "188e522f",
   "metadata": {},
   "outputs": [
    {
     "data": {
      "text/html": [
       "<div>\n",
       "<style scoped>\n",
       "    .dataframe tbody tr th:only-of-type {\n",
       "        vertical-align: middle;\n",
       "    }\n",
       "\n",
       "    .dataframe tbody tr th {\n",
       "        vertical-align: top;\n",
       "    }\n",
       "\n",
       "    .dataframe thead th {\n",
       "        text-align: right;\n",
       "    }\n",
       "</style>\n",
       "<table border=\"1\" class=\"dataframe\">\n",
       "  <thead>\n",
       "    <tr style=\"text-align: right;\">\n",
       "      <th></th>\n",
       "      <th>emp_no</th>\n",
       "      <th>COUNT(title)</th>\n",
       "    </tr>\n",
       "  </thead>\n",
       "  <tbody>\n",
       "    <tr>\n",
       "      <th>0</th>\n",
       "      <td>10001</td>\n",
       "      <td>1</td>\n",
       "    </tr>\n",
       "    <tr>\n",
       "      <th>1</th>\n",
       "      <td>10002</td>\n",
       "      <td>1</td>\n",
       "    </tr>\n",
       "    <tr>\n",
       "      <th>2</th>\n",
       "      <td>10003</td>\n",
       "      <td>1</td>\n",
       "    </tr>\n",
       "    <tr>\n",
       "      <th>3</th>\n",
       "      <td>10004</td>\n",
       "      <td>2</td>\n",
       "    </tr>\n",
       "    <tr>\n",
       "      <th>4</th>\n",
       "      <td>10005</td>\n",
       "      <td>2</td>\n",
       "    </tr>\n",
       "    <tr>\n",
       "      <th>...</th>\n",
       "      <td>...</td>\n",
       "      <td>...</td>\n",
       "    </tr>\n",
       "    <tr>\n",
       "      <th>300019</th>\n",
       "      <td>499995</td>\n",
       "      <td>1</td>\n",
       "    </tr>\n",
       "    <tr>\n",
       "      <th>300020</th>\n",
       "      <td>499996</td>\n",
       "      <td>2</td>\n",
       "    </tr>\n",
       "    <tr>\n",
       "      <th>300021</th>\n",
       "      <td>499997</td>\n",
       "      <td>2</td>\n",
       "    </tr>\n",
       "    <tr>\n",
       "      <th>300022</th>\n",
       "      <td>499998</td>\n",
       "      <td>2</td>\n",
       "    </tr>\n",
       "    <tr>\n",
       "      <th>300023</th>\n",
       "      <td>499999</td>\n",
       "      <td>1</td>\n",
       "    </tr>\n",
       "  </tbody>\n",
       "</table>\n",
       "<p>300024 rows × 2 columns</p>\n",
       "</div>"
      ],
      "text/plain": [
       "        emp_no  COUNT(title)\n",
       "0        10001             1\n",
       "1        10002             1\n",
       "2        10003             1\n",
       "3        10004             2\n",
       "4        10005             2\n",
       "...        ...           ...\n",
       "300019  499995             1\n",
       "300020  499996             2\n",
       "300021  499997             2\n",
       "300022  499998             2\n",
       "300023  499999             1\n",
       "\n",
       "[300024 rows x 2 columns]"
      ]
     },
     "execution_count": 210,
     "metadata": {},
     "output_type": "execute_result"
    }
   ],
   "source": [
    "test"
   ]
  },
  {
   "cell_type": "code",
   "execution_count": 213,
   "id": "49cb0c65",
   "metadata": {},
   "outputs": [
    {
     "data": {
      "text/plain": [
       "PearsonRResult(statistic=0.0014090830341339786, pvalue=0.4402242423263949)"
      ]
     },
     "execution_count": 213,
     "metadata": {},
     "output_type": "execute_result"
    }
   ],
   "source": [
    "# Employeed Length\n",
    "# Total Titles\n",
    "# Correlation: YEET (Not sure why had to make title separate)\n",
    "stats.pearsonr(employees.empdiffday, test['COUNT(title)'])"
   ]
  },
  {
   "cell_type": "markdown",
   "id": "33cb4c21",
   "metadata": {},
   "source": [
    "### 4. Use the sleepstudy data."
   ]
  },
  {
   "cell_type": "markdown",
   "id": "de1f97ff",
   "metadata": {},
   "source": [
    "##### 4a. Is there a relationship between days and reaction time?"
   ]
  },
  {
   "cell_type": "code",
   "execution_count": 123,
   "id": "93296e5e",
   "metadata": {},
   "outputs": [],
   "source": [
    "slpstdy = data('sleepstudy')"
   ]
  },
  {
   "cell_type": "code",
   "execution_count": 125,
   "id": "f51d93ad",
   "metadata": {},
   "outputs": [
    {
     "data": {
      "text/plain": [
       "PearsonRResult(statistic=0.5352302262650253, pvalue=9.894096322214812e-15)"
      ]
     },
     "execution_count": 125,
     "metadata": {},
     "output_type": "execute_result"
    }
   ],
   "source": [
    "# Correlation: Yes\n",
    "stats.pearsonr(slpstdy.Days, slpstdy.Reaction)"
   ]
  },
  {
   "cell_type": "markdown",
   "id": "f8b50fa5",
   "metadata": {},
   "source": [
    "# =======================================================================================================\n",
    "# Correlation (4) END\n",
    "# Correlation (4) TO Comparison of Groups (4)\n",
    "# Comparison of Groups (4) START\n",
    "# ======================================================================================================="
   ]
  },
  {
   "cell_type": "markdown",
   "id": "8855f0ba",
   "metadata": {},
   "source": [
    "### 1. Answer with the type of stats test you would use (assume normal distribution):"
   ]
  },
  {
   "cell_type": "markdown",
   "id": "fa1650f9",
   "metadata": {},
   "source": [
    "##### 1a. Do students get better test grades if they have a rubber duck on their desk?"
   ]
  },
  {
   "cell_type": "code",
   "execution_count": null,
   "id": "37c3987d",
   "metadata": {},
   "outputs": [],
   "source": [
    "# Rubber Duck: Discrete\n",
    "# Grade: Continuous\n",
    "# stats.ttest_ind(HasDuckGrade, NoDuckGrade)"
   ]
  },
  {
   "cell_type": "markdown",
   "id": "21a04b1a",
   "metadata": {},
   "source": [
    "##### 1b. Does smoking affect when or not someone has lung cancer?"
   ]
  },
  {
   "cell_type": "code",
   "execution_count": 215,
   "id": "e9ca470b",
   "metadata": {},
   "outputs": [
    {
     "ename": "TypeError",
     "evalue": "chisquare() missing 1 required positional argument: 'f_obs'",
     "output_type": "error",
     "traceback": [
      "\u001b[0;31m---------------------------------------------------------------------------\u001b[0m",
      "\u001b[0;31mTypeError\u001b[0m                                 Traceback (most recent call last)",
      "\u001b[0;32m/var/folders/6x/kctcvd8x6l18t57t92kmqy6w0000gn/T/ipykernel_1693/3880845507.py\u001b[0m in \u001b[0;36m<module>\u001b[0;34m\u001b[0m\n\u001b[1;32m      3\u001b[0m \u001b[0;31m# No Smoke w/ Lung: Discrete\u001b[0m\u001b[0;34m\u001b[0m\u001b[0;34m\u001b[0m\u001b[0m\n\u001b[1;32m      4\u001b[0m \u001b[0;31m# No Smoke w/o Lung: Discrete\u001b[0m\u001b[0;34m\u001b[0m\u001b[0;34m\u001b[0m\u001b[0m\n\u001b[0;32m----> 5\u001b[0;31m \u001b[0mstats\u001b[0m\u001b[0;34m.\u001b[0m\u001b[0mchisquare\u001b[0m\u001b[0;34m(\u001b[0m\u001b[0;34m)\u001b[0m\u001b[0;34m\u001b[0m\u001b[0;34m\u001b[0m\u001b[0m\n\u001b[0m",
      "\u001b[0;31mTypeError\u001b[0m: chisquare() missing 1 required positional argument: 'f_obs'"
     ]
    }
   ],
   "source": [
    "# Smoke w/ Lung: Discrete\n",
    "# Smoke w/o Lung: Discrete\n",
    "# No Smoke w/ Lung: Discrete\n",
    "# No Smoke w/o Lung: Discrete\n",
    "# stats.chi2_contingency(Smoke, LungCancer)"
   ]
  },
  {
   "cell_type": "markdown",
   "id": "7782ba04",
   "metadata": {},
   "source": [
    "##### 1c. Is gender independent of a person’s blood type?"
   ]
  },
  {
   "cell_type": "code",
   "execution_count": null,
   "id": "7be991e4",
   "metadata": {},
   "outputs": [],
   "source": [
    "# Gender: Discrete\n",
    "# Blood Type: Discrete\n",
    "# stats.chi_contingency(Gender, Blood Type)"
   ]
  },
  {
   "cell_type": "markdown",
   "id": "ec1d56f0",
   "metadata": {},
   "source": [
    "##### 1d. A farming company wants to know if a new fertilizer has improved crop yield or not"
   ]
  },
  {
   "cell_type": "code",
   "execution_count": null,
   "id": "240f6be2",
   "metadata": {},
   "outputs": [],
   "source": [
    "# Fertilizer: Discrete(3+)\n",
    "# Crop Yield: Continuous\n",
    "# stats.f_oneway(fertilizer 1, fertilizer 2, fertilizer 3)\n",
    "# stats.ttest_ind(fertilizer, crop yield)"
   ]
  },
  {
   "cell_type": "markdown",
   "id": "43c08294",
   "metadata": {},
   "source": [
    "##### 1e. Does the length of time of the lecture correlate with a students grade?"
   ]
  },
  {
   "cell_type": "code",
   "execution_count": null,
   "id": "2fe203d7",
   "metadata": {},
   "outputs": [],
   "source": [
    "# Length Time: Discrete\n",
    "# Grade: Continuous\n",
    "# stats.ttest_ind(Lecture Time, Grade)"
   ]
  },
  {
   "cell_type": "markdown",
   "id": "d8d949fb",
   "metadata": {},
   "source": [
    "##### 1f. Do people with dogs live in apartments more than people with cats?"
   ]
  },
  {
   "cell_type": "code",
   "execution_count": null,
   "id": "21646477",
   "metadata": {},
   "outputs": [],
   "source": [
    "# Has Dog: Discrete\n",
    "# Has Cat: Discrete\n",
    "# In Apartment: Discrete\n",
    "# stats.chi_contingency"
   ]
  },
  {
   "cell_type": "markdown",
   "id": "d40de498",
   "metadata": {},
   "source": [
    "### 2. Use the following contingency table to help answer the question of whether using a macbook and being a codeup student are independent of each other."
   ]
  },
  {
   "cell_type": "markdown",
   "id": "0b796c6d",
   "metadata": {},
   "source": [
    "| | Codeup Student | Not Codeup Student |\n",
    "| ----- | ------ | ------ |\n",
    "| Uses a Macbook | 49 | 20 |\n",
    "| Doesn't Use A Macbook\t| 1\t| 30 |"
   ]
  },
  {
   "cell_type": "code",
   "execution_count": null,
   "id": "11a6c1b5",
   "metadata": {},
   "outputs": [],
   "source": [
    "stats.chi2_contingency()"
   ]
  },
  {
   "cell_type": "code",
   "execution_count": 217,
   "id": "40370b8b",
   "metadata": {},
   "outputs": [
    {
     "data": {
      "text/plain": [
       "(36.65264142122487,\n",
       " 1.4116760526193828e-09,\n",
       " 1,\n",
       " array([[34.5, 34.5],\n",
       "        [15.5, 15.5]]))"
      ]
     },
     "execution_count": 217,
     "metadata": {},
     "output_type": "execute_result"
    }
   ],
   "source": [
    "# Is independent\n",
    "stats.chi2_contingency()\n",
    "stats.chi2_contingency([[49, 20],\n",
    "                       [1, 30]])"
   ]
  },
  {
   "cell_type": "markdown",
   "id": "9fe085cd",
   "metadata": {},
   "source": [
    "### 3. Choose another 2 categorical variables from the mpg dataset and perform a chi^2 contingency table test with them. Be sure to state your null and alternative hypotheses."
   ]
  },
  {
   "cell_type": "code",
   "execution_count": 218,
   "id": "668c92fe",
   "metadata": {},
   "outputs": [
    {
     "data": {
      "text/html": [
       "<div>\n",
       "<style scoped>\n",
       "    .dataframe tbody tr th:only-of-type {\n",
       "        vertical-align: middle;\n",
       "    }\n",
       "\n",
       "    .dataframe tbody tr th {\n",
       "        vertical-align: top;\n",
       "    }\n",
       "\n",
       "    .dataframe thead th {\n",
       "        text-align: right;\n",
       "    }\n",
       "</style>\n",
       "<table border=\"1\" class=\"dataframe\">\n",
       "  <thead>\n",
       "    <tr style=\"text-align: right;\">\n",
       "      <th></th>\n",
       "      <th>manufacturer</th>\n",
       "      <th>model</th>\n",
       "      <th>displ</th>\n",
       "      <th>year</th>\n",
       "      <th>cyl</th>\n",
       "      <th>trans</th>\n",
       "      <th>drv</th>\n",
       "      <th>cty</th>\n",
       "      <th>hwy</th>\n",
       "      <th>fl</th>\n",
       "      <th>class</th>\n",
       "      <th>combined_mpg</th>\n",
       "    </tr>\n",
       "  </thead>\n",
       "  <tbody>\n",
       "    <tr>\n",
       "      <th>1</th>\n",
       "      <td>audi</td>\n",
       "      <td>a4</td>\n",
       "      <td>1.8</td>\n",
       "      <td>1999</td>\n",
       "      <td>4</td>\n",
       "      <td>auto(l5)</td>\n",
       "      <td>f</td>\n",
       "      <td>18</td>\n",
       "      <td>29</td>\n",
       "      <td>p</td>\n",
       "      <td>compact</td>\n",
       "      <td>23.5</td>\n",
       "    </tr>\n",
       "    <tr>\n",
       "      <th>2</th>\n",
       "      <td>audi</td>\n",
       "      <td>a4</td>\n",
       "      <td>1.8</td>\n",
       "      <td>1999</td>\n",
       "      <td>4</td>\n",
       "      <td>manual(m5)</td>\n",
       "      <td>f</td>\n",
       "      <td>21</td>\n",
       "      <td>29</td>\n",
       "      <td>p</td>\n",
       "      <td>compact</td>\n",
       "      <td>25.0</td>\n",
       "    </tr>\n",
       "    <tr>\n",
       "      <th>3</th>\n",
       "      <td>audi</td>\n",
       "      <td>a4</td>\n",
       "      <td>2.0</td>\n",
       "      <td>2008</td>\n",
       "      <td>4</td>\n",
       "      <td>manual(m6)</td>\n",
       "      <td>f</td>\n",
       "      <td>20</td>\n",
       "      <td>31</td>\n",
       "      <td>p</td>\n",
       "      <td>compact</td>\n",
       "      <td>25.5</td>\n",
       "    </tr>\n",
       "    <tr>\n",
       "      <th>4</th>\n",
       "      <td>audi</td>\n",
       "      <td>a4</td>\n",
       "      <td>2.0</td>\n",
       "      <td>2008</td>\n",
       "      <td>4</td>\n",
       "      <td>auto(av)</td>\n",
       "      <td>f</td>\n",
       "      <td>21</td>\n",
       "      <td>30</td>\n",
       "      <td>p</td>\n",
       "      <td>compact</td>\n",
       "      <td>25.5</td>\n",
       "    </tr>\n",
       "    <tr>\n",
       "      <th>5</th>\n",
       "      <td>audi</td>\n",
       "      <td>a4</td>\n",
       "      <td>2.8</td>\n",
       "      <td>1999</td>\n",
       "      <td>6</td>\n",
       "      <td>auto(l5)</td>\n",
       "      <td>f</td>\n",
       "      <td>16</td>\n",
       "      <td>26</td>\n",
       "      <td>p</td>\n",
       "      <td>compact</td>\n",
       "      <td>21.0</td>\n",
       "    </tr>\n",
       "    <tr>\n",
       "      <th>...</th>\n",
       "      <td>...</td>\n",
       "      <td>...</td>\n",
       "      <td>...</td>\n",
       "      <td>...</td>\n",
       "      <td>...</td>\n",
       "      <td>...</td>\n",
       "      <td>...</td>\n",
       "      <td>...</td>\n",
       "      <td>...</td>\n",
       "      <td>...</td>\n",
       "      <td>...</td>\n",
       "      <td>...</td>\n",
       "    </tr>\n",
       "    <tr>\n",
       "      <th>230</th>\n",
       "      <td>volkswagen</td>\n",
       "      <td>passat</td>\n",
       "      <td>2.0</td>\n",
       "      <td>2008</td>\n",
       "      <td>4</td>\n",
       "      <td>auto(s6)</td>\n",
       "      <td>f</td>\n",
       "      <td>19</td>\n",
       "      <td>28</td>\n",
       "      <td>p</td>\n",
       "      <td>midsize</td>\n",
       "      <td>23.5</td>\n",
       "    </tr>\n",
       "    <tr>\n",
       "      <th>231</th>\n",
       "      <td>volkswagen</td>\n",
       "      <td>passat</td>\n",
       "      <td>2.0</td>\n",
       "      <td>2008</td>\n",
       "      <td>4</td>\n",
       "      <td>manual(m6)</td>\n",
       "      <td>f</td>\n",
       "      <td>21</td>\n",
       "      <td>29</td>\n",
       "      <td>p</td>\n",
       "      <td>midsize</td>\n",
       "      <td>25.0</td>\n",
       "    </tr>\n",
       "    <tr>\n",
       "      <th>232</th>\n",
       "      <td>volkswagen</td>\n",
       "      <td>passat</td>\n",
       "      <td>2.8</td>\n",
       "      <td>1999</td>\n",
       "      <td>6</td>\n",
       "      <td>auto(l5)</td>\n",
       "      <td>f</td>\n",
       "      <td>16</td>\n",
       "      <td>26</td>\n",
       "      <td>p</td>\n",
       "      <td>midsize</td>\n",
       "      <td>21.0</td>\n",
       "    </tr>\n",
       "    <tr>\n",
       "      <th>233</th>\n",
       "      <td>volkswagen</td>\n",
       "      <td>passat</td>\n",
       "      <td>2.8</td>\n",
       "      <td>1999</td>\n",
       "      <td>6</td>\n",
       "      <td>manual(m5)</td>\n",
       "      <td>f</td>\n",
       "      <td>18</td>\n",
       "      <td>26</td>\n",
       "      <td>p</td>\n",
       "      <td>midsize</td>\n",
       "      <td>22.0</td>\n",
       "    </tr>\n",
       "    <tr>\n",
       "      <th>234</th>\n",
       "      <td>volkswagen</td>\n",
       "      <td>passat</td>\n",
       "      <td>3.6</td>\n",
       "      <td>2008</td>\n",
       "      <td>6</td>\n",
       "      <td>auto(s6)</td>\n",
       "      <td>f</td>\n",
       "      <td>17</td>\n",
       "      <td>26</td>\n",
       "      <td>p</td>\n",
       "      <td>midsize</td>\n",
       "      <td>21.5</td>\n",
       "    </tr>\n",
       "  </tbody>\n",
       "</table>\n",
       "<p>234 rows × 12 columns</p>\n",
       "</div>"
      ],
      "text/plain": [
       "    manufacturer   model  displ  year  cyl       trans drv  cty  hwy fl  \\\n",
       "1           audi      a4    1.8  1999    4    auto(l5)   f   18   29  p   \n",
       "2           audi      a4    1.8  1999    4  manual(m5)   f   21   29  p   \n",
       "3           audi      a4    2.0  2008    4  manual(m6)   f   20   31  p   \n",
       "4           audi      a4    2.0  2008    4    auto(av)   f   21   30  p   \n",
       "5           audi      a4    2.8  1999    6    auto(l5)   f   16   26  p   \n",
       "..           ...     ...    ...   ...  ...         ...  ..  ...  ... ..   \n",
       "230   volkswagen  passat    2.0  2008    4    auto(s6)   f   19   28  p   \n",
       "231   volkswagen  passat    2.0  2008    4  manual(m6)   f   21   29  p   \n",
       "232   volkswagen  passat    2.8  1999    6    auto(l5)   f   16   26  p   \n",
       "233   volkswagen  passat    2.8  1999    6  manual(m5)   f   18   26  p   \n",
       "234   volkswagen  passat    3.6  2008    6    auto(s6)   f   17   26  p   \n",
       "\n",
       "       class  combined_mpg  \n",
       "1    compact          23.5  \n",
       "2    compact          25.0  \n",
       "3    compact          25.5  \n",
       "4    compact          25.5  \n",
       "5    compact          21.0  \n",
       "..       ...           ...  \n",
       "230  midsize          23.5  \n",
       "231  midsize          25.0  \n",
       "232  midsize          21.0  \n",
       "233  midsize          22.0  \n",
       "234  midsize          21.5  \n",
       "\n",
       "[234 rows x 12 columns]"
      ]
     },
     "execution_count": 218,
     "metadata": {},
     "output_type": "execute_result"
    }
   ],
   "source": [
    "mpg"
   ]
  },
  {
   "cell_type": "markdown",
   "id": "62d3f52c",
   "metadata": {},
   "source": [
    "H$_0$ : Vehicle class is independent of vehicle manufacturer\n",
    "\n",
    "H$_a$ : Vehicle class is dependent on vehicle manufacturer"
   ]
  },
  {
   "cell_type": "code",
   "execution_count": 225,
   "id": "421c4760",
   "metadata": {},
   "outputs": [],
   "source": [
    "observed = pd.crosstab(mpg['class'], mpg['manufacturer'])"
   ]
  },
  {
   "cell_type": "code",
   "execution_count": 227,
   "id": "e0bcd5f5",
   "metadata": {},
   "outputs": [
    {
     "data": {
      "text/plain": [
       "5.267718408816259e-54"
      ]
     },
     "execution_count": 227,
     "metadata": {},
     "output_type": "execute_result"
    }
   ],
   "source": [
    "# Reject Null hypothesis\n",
    "stats.chi2_contingency(observed)[1]"
   ]
  },
  {
   "cell_type": "markdown",
   "id": "5462467b",
   "metadata": {},
   "source": [
    "### 4. Use the data from the employees database to answer these questions:"
   ]
  },
  {
   "cell_type": "markdown",
   "id": "f06a98a8",
   "metadata": {},
   "source": [
    "##### 4a. Is an employee's gender independent of whether an employee works in sales or marketing? (only look at current employees)"
   ]
  },
  {
   "cell_type": "code",
   "execution_count": 238,
   "id": "bdfead9e",
   "metadata": {},
   "outputs": [],
   "source": [
    "# Current employee\n",
    "#     emp_no, to_date = 9999\n",
    "# Gender\n",
    "#     M/F\n",
    "# Department\n",
    "#     Names\n",
    "# Manager Status (T/F)\n",
    "# INDEPENDENT 0.569\n",
    "empgenders = pd.read_sql(\n",
    "    '''\n",
    "    SELECT \n",
    "        dept_emp.emp_no, \n",
    "        employees.gender, \n",
    "        departments.dept_name,\n",
    "        dept_manager.dept_no AS manager\n",
    "    FROM \n",
    "        dept_emp\n",
    "        JOIN employees USING(emp_no)\n",
    "        JOIN departments USING(dept_no) \n",
    "        LEFT JOIN dept_manager USING(emp_no)\n",
    "    WHERE dept_emp.to_date > NOW();\n",
    "    ''', env.get_db_url('employees'))"
   ]
  },
  {
   "cell_type": "code",
   "execution_count": 250,
   "id": "ef54b337",
   "metadata": {},
   "outputs": [],
   "source": [
    "empgenders.manager = np.where(empgenders.manager.astype(str).str.startswith('d'), True, False)"
   ]
  },
  {
   "cell_type": "code",
   "execution_count": 251,
   "id": "846c108a",
   "metadata": {},
   "outputs": [
    {
     "data": {
      "text/html": [
       "<div>\n",
       "<style scoped>\n",
       "    .dataframe tbody tr th:only-of-type {\n",
       "        vertical-align: middle;\n",
       "    }\n",
       "\n",
       "    .dataframe tbody tr th {\n",
       "        vertical-align: top;\n",
       "    }\n",
       "\n",
       "    .dataframe thead th {\n",
       "        text-align: right;\n",
       "    }\n",
       "</style>\n",
       "<table border=\"1\" class=\"dataframe\">\n",
       "  <thead>\n",
       "    <tr style=\"text-align: right;\">\n",
       "      <th></th>\n",
       "      <th>emp_no</th>\n",
       "      <th>gender</th>\n",
       "      <th>dept_name</th>\n",
       "      <th>manager</th>\n",
       "    </tr>\n",
       "  </thead>\n",
       "  <tbody>\n",
       "    <tr>\n",
       "      <th>0</th>\n",
       "      <td>10038</td>\n",
       "      <td>M</td>\n",
       "      <td>Customer Service</td>\n",
       "      <td>False</td>\n",
       "    </tr>\n",
       "    <tr>\n",
       "      <th>1</th>\n",
       "      <td>10049</td>\n",
       "      <td>F</td>\n",
       "      <td>Customer Service</td>\n",
       "      <td>False</td>\n",
       "    </tr>\n",
       "    <tr>\n",
       "      <th>2</th>\n",
       "      <td>10060</td>\n",
       "      <td>M</td>\n",
       "      <td>Customer Service</td>\n",
       "      <td>False</td>\n",
       "    </tr>\n",
       "    <tr>\n",
       "      <th>3</th>\n",
       "      <td>10088</td>\n",
       "      <td>F</td>\n",
       "      <td>Customer Service</td>\n",
       "      <td>False</td>\n",
       "    </tr>\n",
       "    <tr>\n",
       "      <th>4</th>\n",
       "      <td>10112</td>\n",
       "      <td>F</td>\n",
       "      <td>Customer Service</td>\n",
       "      <td>False</td>\n",
       "    </tr>\n",
       "    <tr>\n",
       "      <th>...</th>\n",
       "      <td>...</td>\n",
       "      <td>...</td>\n",
       "      <td>...</td>\n",
       "      <td>...</td>\n",
       "    </tr>\n",
       "    <tr>\n",
       "      <th>240119</th>\n",
       "      <td>499966</td>\n",
       "      <td>F</td>\n",
       "      <td>Sales</td>\n",
       "      <td>False</td>\n",
       "    </tr>\n",
       "    <tr>\n",
       "      <th>240120</th>\n",
       "      <td>499976</td>\n",
       "      <td>M</td>\n",
       "      <td>Sales</td>\n",
       "      <td>False</td>\n",
       "    </tr>\n",
       "    <tr>\n",
       "      <th>240121</th>\n",
       "      <td>499980</td>\n",
       "      <td>M</td>\n",
       "      <td>Sales</td>\n",
       "      <td>False</td>\n",
       "    </tr>\n",
       "    <tr>\n",
       "      <th>240122</th>\n",
       "      <td>499986</td>\n",
       "      <td>F</td>\n",
       "      <td>Sales</td>\n",
       "      <td>False</td>\n",
       "    </tr>\n",
       "    <tr>\n",
       "      <th>240123</th>\n",
       "      <td>499987</td>\n",
       "      <td>F</td>\n",
       "      <td>Sales</td>\n",
       "      <td>False</td>\n",
       "    </tr>\n",
       "  </tbody>\n",
       "</table>\n",
       "<p>240124 rows × 4 columns</p>\n",
       "</div>"
      ],
      "text/plain": [
       "        emp_no gender         dept_name  manager\n",
       "0        10038      M  Customer Service    False\n",
       "1        10049      F  Customer Service    False\n",
       "2        10060      M  Customer Service    False\n",
       "3        10088      F  Customer Service    False\n",
       "4        10112      F  Customer Service    False\n",
       "...        ...    ...               ...      ...\n",
       "240119  499966      F             Sales    False\n",
       "240120  499976      M             Sales    False\n",
       "240121  499980      M             Sales    False\n",
       "240122  499986      F             Sales    False\n",
       "240123  499987      F             Sales    False\n",
       "\n",
       "[240124 rows x 4 columns]"
      ]
     },
     "execution_count": 251,
     "metadata": {},
     "output_type": "execute_result"
    }
   ],
   "source": [
    "empgenders"
   ]
  },
  {
   "cell_type": "code",
   "execution_count": 252,
   "id": "ae0ea230",
   "metadata": {},
   "outputs": [
    {
     "data": {
      "text/plain": [
       "False    240100\n",
       "True         24\n",
       "Name: manager, dtype: int64"
      ]
     },
     "execution_count": 252,
     "metadata": {},
     "output_type": "execute_result"
    }
   ],
   "source": [
    "empgenders.manager.value_counts()"
   ]
  },
  {
   "cell_type": "code",
   "execution_count": 264,
   "id": "f9e8ddd6",
   "metadata": {},
   "outputs": [],
   "source": [
    "salesormarketing = empgenders[((empgenders.dept_name == 'Sales') | (empgenders.dept_name == 'Marketing'))]"
   ]
  },
  {
   "cell_type": "code",
   "execution_count": 266,
   "id": "37c940f1",
   "metadata": {},
   "outputs": [
    {
     "data": {
      "text/plain": [
       "Sales        37701\n",
       "Marketing    14842\n",
       "Name: dept_name, dtype: int64"
      ]
     },
     "execution_count": 266,
     "metadata": {},
     "output_type": "execute_result"
    }
   ],
   "source": [
    "salesormarketing.dept_name.value_counts()"
   ]
  },
  {
   "cell_type": "code",
   "execution_count": 269,
   "id": "8eb2ea5e",
   "metadata": {},
   "outputs": [
    {
     "data": {
      "text/html": [
       "<div>\n",
       "<style scoped>\n",
       "    .dataframe tbody tr th:only-of-type {\n",
       "        vertical-align: middle;\n",
       "    }\n",
       "\n",
       "    .dataframe tbody tr th {\n",
       "        vertical-align: top;\n",
       "    }\n",
       "\n",
       "    .dataframe thead th {\n",
       "        text-align: right;\n",
       "    }\n",
       "</style>\n",
       "<table border=\"1\" class=\"dataframe\">\n",
       "  <thead>\n",
       "    <tr style=\"text-align: right;\">\n",
       "      <th>dept_name</th>\n",
       "      <th>Marketing</th>\n",
       "      <th>Sales</th>\n",
       "    </tr>\n",
       "    <tr>\n",
       "      <th>gender</th>\n",
       "      <th></th>\n",
       "      <th></th>\n",
       "    </tr>\n",
       "  </thead>\n",
       "  <tbody>\n",
       "    <tr>\n",
       "      <th>F</th>\n",
       "      <td>5864</td>\n",
       "      <td>14999</td>\n",
       "    </tr>\n",
       "    <tr>\n",
       "      <th>M</th>\n",
       "      <td>8978</td>\n",
       "      <td>22702</td>\n",
       "    </tr>\n",
       "  </tbody>\n",
       "</table>\n",
       "</div>"
      ],
      "text/plain": [
       "dept_name  Marketing  Sales\n",
       "gender                     \n",
       "F               5864  14999\n",
       "M               8978  22702"
      ]
     },
     "execution_count": 269,
     "metadata": {},
     "output_type": "execute_result"
    }
   ],
   "source": [
    "deptobservation = pd.crosstab(salesormarketing.gender, salesormarketing.dept_name)\n",
    "deptobservation"
   ]
  },
  {
   "cell_type": "code",
   "execution_count": 270,
   "id": "74aa826a",
   "metadata": {},
   "outputs": [
    {
     "data": {
      "text/plain": [
       "(0.3240332004060638,\n",
       " 0.5691938610810126,\n",
       " 1,\n",
       " array([[ 5893.2426013, 14969.7573987],\n",
       "        [ 8948.7573987, 22731.2426013]]))"
      ]
     },
     "execution_count": 270,
     "metadata": {},
     "output_type": "execute_result"
    }
   ],
   "source": [
    "stats.chi2_contingency(deptobservation)"
   ]
  },
  {
   "cell_type": "markdown",
   "id": "b594f947",
   "metadata": {},
   "source": [
    "##### 4b. Is an employee's gender independent of whether or not they are or have been a manager?"
   ]
  },
  {
   "cell_type": "code",
   "execution_count": null,
   "id": "bd933131",
   "metadata": {},
   "outputs": [],
   "source": [
    "# INDEPENDENT 0.226"
   ]
  },
  {
   "cell_type": "code",
   "execution_count": 273,
   "id": "e5dd04a7",
   "metadata": {},
   "outputs": [
    {
     "data": {
      "text/html": [
       "<div>\n",
       "<style scoped>\n",
       "    .dataframe tbody tr th:only-of-type {\n",
       "        vertical-align: middle;\n",
       "    }\n",
       "\n",
       "    .dataframe tbody tr th {\n",
       "        vertical-align: top;\n",
       "    }\n",
       "\n",
       "    .dataframe thead th {\n",
       "        text-align: right;\n",
       "    }\n",
       "</style>\n",
       "<table border=\"1\" class=\"dataframe\">\n",
       "  <thead>\n",
       "    <tr style=\"text-align: right;\">\n",
       "      <th>manager</th>\n",
       "      <th>False</th>\n",
       "      <th>True</th>\n",
       "    </tr>\n",
       "    <tr>\n",
       "      <th>gender</th>\n",
       "      <th></th>\n",
       "      <th></th>\n",
       "    </tr>\n",
       "  </thead>\n",
       "  <tbody>\n",
       "    <tr>\n",
       "      <th>F</th>\n",
       "      <td>95997</td>\n",
       "      <td>13</td>\n",
       "    </tr>\n",
       "    <tr>\n",
       "      <th>M</th>\n",
       "      <td>144103</td>\n",
       "      <td>11</td>\n",
       "    </tr>\n",
       "  </tbody>\n",
       "</table>\n",
       "</div>"
      ],
      "text/plain": [
       "manager   False  True\n",
       "gender               \n",
       "F         95997    13\n",
       "M        144103    11"
      ]
     },
     "execution_count": 273,
     "metadata": {},
     "output_type": "execute_result"
    }
   ],
   "source": [
    "mngobserve = pd.crosstab(empgenders.gender, empgenders.manager)\n",
    "mngobserve"
   ]
  },
  {
   "cell_type": "code",
   "execution_count": 274,
   "id": "6edaa87b",
   "metadata": {},
   "outputs": [
    {
     "data": {
      "text/plain": [
       "(1.4644053674773516,\n",
       " 0.22623047939647867,\n",
       " 1,\n",
       " array([[9.60004040e+04, 9.59604204e+00],\n",
       "        [1.44099596e+05, 1.44039580e+01]]))"
      ]
     },
     "execution_count": 274,
     "metadata": {},
     "output_type": "execute_result"
    }
   ],
   "source": [
    "stats.chi2_contingency(mngobserve)"
   ]
  },
  {
   "cell_type": "markdown",
   "id": "a96e8230",
   "metadata": {},
   "source": [
    "# =======================================================================================================\n",
    "# Comparison of Groups (4) END\n",
    "# Comparison of Groups (4) TO More Examples\n",
    "# More Examples START\n",
    "# ======================================================================================================="
   ]
  },
  {
   "cell_type": "markdown",
   "id": "37e4fc18",
   "metadata": {},
   "source": [
    "##### Choose several continous and categorical variables that were not covered in the lesson and perform each type of test on them. You may use another data set if you wish."
   ]
  },
  {
   "cell_type": "code",
   "execution_count": 277,
   "id": "c48dbddf",
   "metadata": {},
   "outputs": [
    {
     "data": {
      "text/plain": [
       "0.7475074624530771"
      ]
     },
     "execution_count": 277,
     "metadata": {},
     "output_type": "execute_result"
    }
   ],
   "source": [
    "# 60 - 10\n",
    "stats.norm(40, 15).cdf(50)"
   ]
  },
  {
   "cell_type": "markdown",
   "id": "2c03e7ba",
   "metadata": {},
   "source": [
    "# =======================================================================================================\n",
    "# More Examples END\n",
    "# ======================================================================================================="
   ]
  }
 ],
 "metadata": {
  "kernelspec": {
   "display_name": "Python 3 (ipykernel)",
   "language": "python",
   "name": "python3"
  },
  "language_info": {
   "codemirror_mode": {
    "name": "ipython",
    "version": 3
   },
   "file_extension": ".py",
   "mimetype": "text/x-python",
   "name": "python",
   "nbconvert_exporter": "python",
   "pygments_lexer": "ipython3",
   "version": "3.9.13"
  }
 },
 "nbformat": 4,
 "nbformat_minor": 5
}
