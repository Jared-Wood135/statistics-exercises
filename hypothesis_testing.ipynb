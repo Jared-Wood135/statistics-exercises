{
 "cells": [
  {
   "cell_type": "markdown",
   "id": "aea8b5c3",
   "metadata": {},
   "source": [
    "# =======================================================================================================\n",
    "# Exercises (3) START\n",
    "# ======================================================================================================="
   ]
  },
  {
   "cell_type": "markdown",
   "id": "7750bef7",
   "metadata": {},
   "source": [
    "##### For each of the following questions, formulate a null and alternative hypothesis (be as specific as you can be), then give an example of what a true positive, true negative, type I and type II errors would look like. Note that some of the questions are intentionally phrased in a vague way. It is your job to reword these as more precise questions that could be tested."
   ]
  },
  {
   "cell_type": "markdown",
   "id": "c8f2c17e",
   "metadata": {},
   "source": [
    "### 1. Has the network latency gone up since we switched internet service providers?"
   ]
  },
  {
   "cell_type": "code",
   "execution_count": null,
   "id": "6667998a",
   "metadata": {},
   "outputs": [],
   "source": []
  },
  {
   "cell_type": "markdown",
   "id": "670b6945",
   "metadata": {},
   "source": [
    "### 2. Is the website redesign any good?"
   ]
  },
  {
   "cell_type": "code",
   "execution_count": null,
   "id": "ef47fcf6",
   "metadata": {},
   "outputs": [],
   "source": []
  },
  {
   "cell_type": "markdown",
   "id": "4e488136",
   "metadata": {},
   "source": [
    "### 3. Is our television ad driving more sales?"
   ]
  },
  {
   "cell_type": "code",
   "execution_count": null,
   "id": "b3d6d2d7",
   "metadata": {},
   "outputs": [],
   "source": []
  },
  {
   "cell_type": "markdown",
   "id": "1cb9000c",
   "metadata": {},
   "source": [
    "# =======================================================================================================\n",
    "# Exercises (3) END\n",
    "# ======================================================================================================="
   ]
  }
 ],
 "metadata": {
  "kernelspec": {
   "display_name": "Python 3 (ipykernel)",
   "language": "python",
   "name": "python3"
  },
  "language_info": {
   "codemirror_mode": {
    "name": "ipython",
    "version": 3
   },
   "file_extension": ".py",
   "mimetype": "text/x-python",
   "name": "python",
   "nbconvert_exporter": "python",
   "pygments_lexer": "ipython3",
   "version": "3.9.13"
  }
 },
 "nbformat": 4,
 "nbformat_minor": 5
}
