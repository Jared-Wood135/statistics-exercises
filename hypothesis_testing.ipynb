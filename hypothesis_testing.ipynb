{
 "cells": [
  {
   "cell_type": "markdown",
   "id": "aea8b5c3",
   "metadata": {},
   "source": [
    "# =======================================================================================================\n",
    "# Overview (3) START\n",
    "# ======================================================================================================="
   ]
  },
  {
   "cell_type": "markdown",
   "id": "7750bef7",
   "metadata": {},
   "source": [
    "##### For each of the following questions, formulate a null and alternative hypothesis (be as specific as you can be), then give an example of what a true positive, true negative, type I and type II errors would look like. Note that some of the questions are intentionally phrased in a vague way. It is your job to reword these as more precise questions that could be tested."
   ]
  },
  {
   "cell_type": "code",
   "execution_count": 2,
   "id": "03e51d6f",
   "metadata": {},
   "outputs": [],
   "source": [
    "import numpy as np\n",
    "import pandas as pd\n",
    "import seaborn as sns\n",
    "import matplotlib.pyplot as plt\n",
    "import scipy.stats as stats\n",
    "from pydataset import data"
   ]
  },
  {
   "cell_type": "markdown",
   "id": "c8f2c17e",
   "metadata": {},
   "source": [
    "### 1. Has the network latency gone up since we switched internet service providers?"
   ]
  },
  {
   "cell_type": "code",
   "execution_count": null,
   "id": "6667998a",
   "metadata": {},
   "outputs": [],
   "source": []
  },
  {
   "cell_type": "markdown",
   "id": "670b6945",
   "metadata": {},
   "source": [
    "### 2. Is the website redesign any good?"
   ]
  },
  {
   "cell_type": "code",
   "execution_count": null,
   "id": "ef47fcf6",
   "metadata": {},
   "outputs": [],
   "source": []
  },
  {
   "cell_type": "markdown",
   "id": "4e488136",
   "metadata": {},
   "source": [
    "### 3. Is our television ad driving more sales?"
   ]
  },
  {
   "cell_type": "code",
   "execution_count": null,
   "id": "b3d6d2d7",
   "metadata": {},
   "outputs": [],
   "source": []
  },
  {
   "cell_type": "markdown",
   "id": "1cb9000c",
   "metadata": {},
   "source": [
    "# =======================================================================================================\n",
    "# Overview (3) END\n",
    "# Overview (3) TO Comparison of Means (3)\n",
    "# Comparison of Means (3) START\n",
    "# ======================================================================================================="
   ]
  },
  {
   "cell_type": "markdown",
   "id": "a8ec8aa8",
   "metadata": {},
   "source": [
    "### 1. Answer with the type of test you would use (assume normal distribution):"
   ]
  },
  {
   "cell_type": "markdown",
   "id": "66245189",
   "metadata": {},
   "source": [
    "##### 1a. Is there a difference in grades of students on the second floor compared to grades of all students?"
   ]
  },
  {
   "cell_type": "code",
   "execution_count": null,
   "id": "c96c7083",
   "metadata": {},
   "outputs": [],
   "source": [
    "# H0: 2nd Floor student grades are similar to others\n",
    "# Ha: 2nd Floor students have a higher overall grade\n",
    "# one sample\n",
    "# two tail\n",
    "# stats.ttest_1samp(a, μth)"
   ]
  },
  {
   "cell_type": "markdown",
   "id": "4ffcdab5",
   "metadata": {},
   "source": [
    "##### 1b. Are adults who drink milk taller than adults who dont drink milk?"
   ]
  },
  {
   "cell_type": "code",
   "execution_count": null,
   "id": "977d2807",
   "metadata": {},
   "outputs": [],
   "source": [
    "# H0: Adults who drink milk are equal or shorter than those who do not\n",
    "# Ha: Adults who drink milk are taller than those who do not\n",
    "# two sample\n",
    "# one tail\n",
    "# stats.ttest_ind(drinkmilk, nomilk)"
   ]
  },
  {
   "cell_type": "markdown",
   "id": "6a0e1cbb",
   "metadata": {},
   "source": [
    "##### 1c. Is the the price of gas higher in texas or in new mexico?"
   ]
  },
  {
   "cell_type": "code",
   "execution_count": null,
   "id": "6e0735b0",
   "metadata": {},
   "outputs": [],
   "source": [
    "# H0: Gas is equal or lower in New Mexico than Texas\n",
    "# Ha: Gas is higher in New Mexico than Texas\n",
    "# two sample\n",
    "# one tail\n",
    "# stats.ttestt_ind(new_mexico, texas)"
   ]
  },
  {
   "cell_type": "markdown",
   "id": "bcc3780c",
   "metadata": {},
   "source": [
    "##### 1d. Are there differences in stress levels between students who take data science vs students who take web development vs students who take cloud academy?"
   ]
  },
  {
   "cell_type": "code",
   "execution_count": null,
   "id": "d0a674dd",
   "metadata": {},
   "outputs": [],
   "source": [
    "# H0: Gas is equal or lower in New Mexico than Texas\n",
    "# Ha: Gas is higher in New Mexico than Texas\n",
    "# three sample\n",
    "# one tail\n",
    "# stats.ttestt_"
   ]
  },
  {
   "cell_type": "markdown",
   "id": "bce4877a",
   "metadata": {},
   "source": [
    "### 2. Ace Realty wants to determine whether the average time it takes to sell homes is different for its two offices. A sample of 40 sales from office #1 revealed a mean of 90 days and a standard deviation of 15 days. A sample of 50 sales from office #2 revealed a mean of 100 days and a standard deviation of 20 days. Use a .05 level of significance."
   ]
  },
  {
   "cell_type": "code",
   "execution_count": 52,
   "id": "e2feed3e",
   "metadata": {},
   "outputs": [],
   "source": [
    "# office 1 sample: 40\n",
    "# office 1 mean: 90\n",
    "# office 1 std: 15\n",
    "# office 2 sample: 50\n",
    "# office 2 mean: 100\n",
    "# office 2 std: 20\n",
    "# alpha: 0.05\n",
    "office_stat, office_p = stats.ttest_ind_from_stats(90, 15, 40, 100, 20, 50)"
   ]
  },
  {
   "cell_type": "code",
   "execution_count": 54,
   "id": "0983c9af",
   "metadata": {},
   "outputs": [
    {
     "data": {
      "text/plain": [
       "True"
      ]
     },
     "execution_count": 54,
     "metadata": {},
     "output_type": "execute_result"
    }
   ],
   "source": [
    "office_stat < 0"
   ]
  },
  {
   "cell_type": "code",
   "execution_count": 55,
   "id": "a6d8ac93",
   "metadata": {},
   "outputs": [
    {
     "data": {
      "text/plain": [
       "True"
      ]
     },
     "execution_count": 55,
     "metadata": {},
     "output_type": "execute_result"
    }
   ],
   "source": [
    "office_p < 0.05"
   ]
  },
  {
   "cell_type": "code",
   "execution_count": 56,
   "id": "4aa78ad6",
   "metadata": {},
   "outputs": [],
   "source": [
    "# ttable_stat: True\n",
    "# ttable_p: True\n",
    "# Office 1 takes less time than office 2"
   ]
  },
  {
   "cell_type": "markdown",
   "id": "75e795c4",
   "metadata": {},
   "source": [
    "### 3. Load the mpg dataset and use it to answer the following questions:"
   ]
  },
  {
   "cell_type": "code",
   "execution_count": 3,
   "id": "82b9c6d5",
   "metadata": {},
   "outputs": [],
   "source": [
    "mpg = data('mpg')"
   ]
  },
  {
   "cell_type": "code",
   "execution_count": 4,
   "id": "a7caeecd",
   "metadata": {},
   "outputs": [
    {
     "data": {
      "text/html": [
       "<div>\n",
       "<style scoped>\n",
       "    .dataframe tbody tr th:only-of-type {\n",
       "        vertical-align: middle;\n",
       "    }\n",
       "\n",
       "    .dataframe tbody tr th {\n",
       "        vertical-align: top;\n",
       "    }\n",
       "\n",
       "    .dataframe thead th {\n",
       "        text-align: right;\n",
       "    }\n",
       "</style>\n",
       "<table border=\"1\" class=\"dataframe\">\n",
       "  <thead>\n",
       "    <tr style=\"text-align: right;\">\n",
       "      <th></th>\n",
       "      <th>manufacturer</th>\n",
       "      <th>model</th>\n",
       "      <th>displ</th>\n",
       "      <th>year</th>\n",
       "      <th>cyl</th>\n",
       "      <th>trans</th>\n",
       "      <th>drv</th>\n",
       "      <th>cty</th>\n",
       "      <th>hwy</th>\n",
       "      <th>fl</th>\n",
       "      <th>class</th>\n",
       "    </tr>\n",
       "  </thead>\n",
       "  <tbody>\n",
       "    <tr>\n",
       "      <th>12</th>\n",
       "      <td>audi</td>\n",
       "      <td>a4 quattro</td>\n",
       "      <td>2.8</td>\n",
       "      <td>1999</td>\n",
       "      <td>6</td>\n",
       "      <td>auto(l5)</td>\n",
       "      <td>4</td>\n",
       "      <td>15</td>\n",
       "      <td>25</td>\n",
       "      <td>p</td>\n",
       "      <td>compact</td>\n",
       "    </tr>\n",
       "  </tbody>\n",
       "</table>\n",
       "</div>"
      ],
      "text/plain": [
       "   manufacturer       model  displ  year  cyl     trans drv  cty  hwy fl  \\\n",
       "12         audi  a4 quattro    2.8  1999    6  auto(l5)   4   15   25  p   \n",
       "\n",
       "      class  \n",
       "12  compact  "
      ]
     },
     "execution_count": 4,
     "metadata": {},
     "output_type": "execute_result"
    }
   ],
   "source": [
    "mpg.sample()"
   ]
  },
  {
   "cell_type": "markdown",
   "id": "f9f01da6",
   "metadata": {},
   "source": [
    "##### 3a. Is there a difference in fuel-efficiency in cars from 2008 vs 1999?"
   ]
  },
  {
   "cell_type": "code",
   "execution_count": null,
   "id": "139ba311",
   "metadata": {},
   "outputs": [],
   "source": [
    "# H0: 2008 cars have equal or less mpg than 1999 cars\n",
    "# Ha: 2008 cars have more mpg than 1999 cars\n",
    "# Two samples\n",
    "# One tail"
   ]
  },
  {
   "cell_type": "code",
   "execution_count": 9,
   "id": "72c11031",
   "metadata": {},
   "outputs": [],
   "source": [
    "mpg['combined_mpg'] = (mpg.cty + mpg.hwy) / 2"
   ]
  },
  {
   "cell_type": "code",
   "execution_count": 11,
   "id": "fe1a684a",
   "metadata": {},
   "outputs": [
    {
     "data": {
      "text/html": [
       "<div>\n",
       "<style scoped>\n",
       "    .dataframe tbody tr th:only-of-type {\n",
       "        vertical-align: middle;\n",
       "    }\n",
       "\n",
       "    .dataframe tbody tr th {\n",
       "        vertical-align: top;\n",
       "    }\n",
       "\n",
       "    .dataframe thead th {\n",
       "        text-align: right;\n",
       "    }\n",
       "</style>\n",
       "<table border=\"1\" class=\"dataframe\">\n",
       "  <thead>\n",
       "    <tr style=\"text-align: right;\">\n",
       "      <th></th>\n",
       "      <th>manufacturer</th>\n",
       "      <th>model</th>\n",
       "      <th>displ</th>\n",
       "      <th>year</th>\n",
       "      <th>cyl</th>\n",
       "      <th>trans</th>\n",
       "      <th>drv</th>\n",
       "      <th>cty</th>\n",
       "      <th>hwy</th>\n",
       "      <th>fl</th>\n",
       "      <th>class</th>\n",
       "      <th>combined_mpg</th>\n",
       "    </tr>\n",
       "  </thead>\n",
       "  <tbody>\n",
       "    <tr>\n",
       "      <th>188</th>\n",
       "      <td>toyota</td>\n",
       "      <td>camry solara</td>\n",
       "      <td>2.2</td>\n",
       "      <td>1999</td>\n",
       "      <td>4</td>\n",
       "      <td>manual(m5)</td>\n",
       "      <td>f</td>\n",
       "      <td>21</td>\n",
       "      <td>29</td>\n",
       "      <td>r</td>\n",
       "      <td>compact</td>\n",
       "      <td>25.0</td>\n",
       "    </tr>\n",
       "  </tbody>\n",
       "</table>\n",
       "</div>"
      ],
      "text/plain": [
       "    manufacturer         model  displ  year  cyl       trans drv  cty  hwy fl  \\\n",
       "188       toyota  camry solara    2.2  1999    4  manual(m5)   f   21   29  r   \n",
       "\n",
       "       class  combined_mpg  \n",
       "188  compact          25.0  "
      ]
     },
     "execution_count": 11,
     "metadata": {},
     "output_type": "execute_result"
    }
   ],
   "source": [
    "mpg.sample()"
   ]
  },
  {
   "cell_type": "code",
   "execution_count": 13,
   "id": "45a1efc8",
   "metadata": {},
   "outputs": [],
   "source": [
    "mpg_1999 = mpg[mpg.year == 1999].combined_mpg\n",
    "mpg_2008 = mpg[mpg.year == 2008].combined_mpg"
   ]
  },
  {
   "cell_type": "code",
   "execution_count": 39,
   "id": "c707d37f",
   "metadata": {},
   "outputs": [
    {
     "data": {
      "text/plain": [
       "LeveneResult(statistic=0.033228136671080453, pvalue=0.855517569468803)"
      ]
     },
     "execution_count": 39,
     "metadata": {},
     "output_type": "execute_result"
    }
   ],
   "source": [
    "# Levene: False\n",
    "stats.levene(mpg_2008, mpg_1999)"
   ]
  },
  {
   "cell_type": "code",
   "execution_count": 40,
   "id": "14cbf35c",
   "metadata": {},
   "outputs": [],
   "source": [
    "mpg_stat, mpg_p = stats.ttest_ind(mpg_2008, mpg_1999, equal_var=False)"
   ]
  },
  {
   "cell_type": "code",
   "execution_count": 41,
   "id": "6fa68cca",
   "metadata": {},
   "outputs": [
    {
     "data": {
      "text/plain": [
       "False"
      ]
     },
     "execution_count": 41,
     "metadata": {},
     "output_type": "execute_result"
    }
   ],
   "source": [
    "mpg_stat > 0"
   ]
  },
  {
   "cell_type": "code",
   "execution_count": 42,
   "id": "9e268eb8",
   "metadata": {},
   "outputs": [
    {
     "data": {
      "text/plain": [
       "False"
      ]
     },
     "execution_count": 42,
     "metadata": {},
     "output_type": "execute_result"
    }
   ],
   "source": [
    "(mpg_p / 2) < 0.05"
   ]
  },
  {
   "cell_type": "code",
   "execution_count": 19,
   "id": "1d8e29a4",
   "metadata": {},
   "outputs": [],
   "source": [
    "# Based off of tttest_ind:\n",
    "# null hypothesis is true\n",
    "# There isn't a strong difference in mpg"
   ]
  },
  {
   "cell_type": "markdown",
   "id": "3fb078ec",
   "metadata": {},
   "source": [
    "##### 3b. Are compact cars more fuel-efficient than the average car?"
   ]
  },
  {
   "cell_type": "code",
   "execution_count": 20,
   "id": "e4a3f1fa",
   "metadata": {},
   "outputs": [],
   "source": [
    "# H0: Compact cars have equal or less mpg than non-compact cars\n",
    "# Ha: Compact cars have better mpg than non-compact cars\n",
    "# Two samples\n",
    "# One Tail"
   ]
  },
  {
   "cell_type": "code",
   "execution_count": 28,
   "id": "533edef4",
   "metadata": {},
   "outputs": [
    {
     "data": {
      "text/plain": [
       "suv           62\n",
       "compact       47\n",
       "midsize       41\n",
       "subcompact    35\n",
       "pickup        33\n",
       "minivan       11\n",
       "2seater        5\n",
       "Name: class, dtype: int64"
      ]
     },
     "execution_count": 28,
     "metadata": {},
     "output_type": "execute_result"
    }
   ],
   "source": [
    "mpg['class'].value_counts()"
   ]
  },
  {
   "cell_type": "code",
   "execution_count": 34,
   "id": "84934f55",
   "metadata": {},
   "outputs": [],
   "source": [
    "compact_mpg = mpg[mpg['class'] == 'compact'].combined_mpg\n",
    "noncompact_mpg = mpg[mpg['class'] != 'compact'].combined_mpg"
   ]
  },
  {
   "cell_type": "code",
   "execution_count": 38,
   "id": "399a269f",
   "metadata": {},
   "outputs": [
    {
     "data": {
      "text/plain": [
       "True"
      ]
     },
     "execution_count": 38,
     "metadata": {},
     "output_type": "execute_result"
    }
   ],
   "source": [
    "# Levene: True... Inequal variance\n",
    "stats.levene(compact_mpg, noncompact_mpg)[1] < 0.05"
   ]
  },
  {
   "cell_type": "code",
   "execution_count": 46,
   "id": "75b5333f",
   "metadata": {},
   "outputs": [],
   "source": [
    "compact_stat, compact_p = stats.ttest_ind(compact_mpg, noncompact_mpg)"
   ]
  },
  {
   "cell_type": "code",
   "execution_count": 49,
   "id": "d7f08179",
   "metadata": {},
   "outputs": [
    {
     "data": {
      "text/plain": [
       "True"
      ]
     },
     "execution_count": 49,
     "metadata": {},
     "output_type": "execute_result"
    }
   ],
   "source": [
    "(compact_p / 2) < 0.05"
   ]
  },
  {
   "cell_type": "code",
   "execution_count": 47,
   "id": "fa28724d",
   "metadata": {},
   "outputs": [
    {
     "data": {
      "text/plain": [
       "True"
      ]
     },
     "execution_count": 47,
     "metadata": {},
     "output_type": "execute_result"
    }
   ],
   "source": [
    "compact_stat > 0"
   ]
  },
  {
   "cell_type": "code",
   "execution_count": null,
   "id": "0ed17269",
   "metadata": {},
   "outputs": [],
   "source": [
    "# levene: True\n",
    "# ttest_p: True\n",
    "# ttest_stat: True\n",
    "# Compact cars do have better mpg than non-compact"
   ]
  },
  {
   "cell_type": "markdown",
   "id": "46bb6b3e",
   "metadata": {},
   "source": [
    "##### 3c. Do manual cars get better gas mileage than automatic cars?"
   ]
  },
  {
   "cell_type": "code",
   "execution_count": 71,
   "id": "06ea7f25",
   "metadata": {},
   "outputs": [],
   "source": [
    "# H0: Manual cars have equal or less mpg than auto cars\n",
    "# Ha: Manual cars have higher mpg than auto cars\n",
    "\n",
    "# Levene: False\n",
    "# ttable_stat: True\n",
    "# ttable_p: True\n",
    "\n",
    "# H0 or Ha?: Ha\n",
    "# Manual cars get better mpg than auto cars"
   ]
  },
  {
   "cell_type": "code",
   "execution_count": 65,
   "id": "db38bc17",
   "metadata": {},
   "outputs": [],
   "source": [
    "auto_mpg = mpg[mpg.trans.str.startswith('auto')].combined_mpg\n",
    "manual_mpg = mpg[mpg.trans.str.startswith('manual')].combined_mpg"
   ]
  },
  {
   "cell_type": "code",
   "execution_count": 66,
   "id": "e4ca42c5",
   "metadata": {},
   "outputs": [
    {
     "data": {
      "text/plain": [
       "LeveneResult(statistic=0.20075824847529639, pvalue=0.6545276355131857)"
      ]
     },
     "execution_count": 66,
     "metadata": {},
     "output_type": "execute_result"
    }
   ],
   "source": [
    "stats.levene(manual_mpg, auto_mpg)"
   ]
  },
  {
   "cell_type": "code",
   "execution_count": 68,
   "id": "4ea72618",
   "metadata": {},
   "outputs": [],
   "source": [
    "trans_stat, trans_p = stats.ttest_ind(manual_mpg, auto_mpg, equal_var=False)"
   ]
  },
  {
   "cell_type": "code",
   "execution_count": 69,
   "id": "b9697321",
   "metadata": {},
   "outputs": [
    {
     "data": {
      "text/plain": [
       "True"
      ]
     },
     "execution_count": 69,
     "metadata": {},
     "output_type": "execute_result"
    }
   ],
   "source": [
    "trans_stat > 0"
   ]
  },
  {
   "cell_type": "code",
   "execution_count": 70,
   "id": "726bd742",
   "metadata": {},
   "outputs": [
    {
     "data": {
      "text/plain": [
       "True"
      ]
     },
     "execution_count": 70,
     "metadata": {},
     "output_type": "execute_result"
    }
   ],
   "source": [
    "(trans_p / 2) < 0.05"
   ]
  },
  {
   "cell_type": "markdown",
   "id": "7b13ef05",
   "metadata": {},
   "source": [
    "# =======================================================================================================\n",
    "# Comparison of Means (3) END\n",
    "# Comparison of Means (3) TO Correlation (4)\n",
    "# Correlation (4) START\n",
    "# ======================================================================================================="
   ]
  },
  {
   "cell_type": "markdown",
   "id": "7d4f615e",
   "metadata": {},
   "source": [
    "### 1. Answer with the type of stats test you would use (assume normal distribution):"
   ]
  },
  {
   "cell_type": "markdown",
   "id": "4f19b9b6",
   "metadata": {},
   "source": [
    "##### 1a. Is there a relationship between the length of your arm and the length of your foot?"
   ]
  },
  {
   "cell_type": "code",
   "execution_count": null,
   "id": "0148f53b",
   "metadata": {},
   "outputs": [],
   "source": []
  },
  {
   "cell_type": "markdown",
   "id": "66800b7d",
   "metadata": {},
   "source": [
    "##### 1b. Do guys and gals quit their jobs at the same rate?"
   ]
  },
  {
   "cell_type": "code",
   "execution_count": null,
   "id": "51a99548",
   "metadata": {},
   "outputs": [],
   "source": []
  },
  {
   "cell_type": "markdown",
   "id": "3669b591",
   "metadata": {},
   "source": [
    "##### 1c. Does the length of time of the lecture correlate with a students grade?"
   ]
  },
  {
   "cell_type": "code",
   "execution_count": null,
   "id": "c9adc784",
   "metadata": {},
   "outputs": [],
   "source": []
  },
  {
   "cell_type": "markdown",
   "id": "29b57097",
   "metadata": {},
   "source": [
    "### 2. Use the telco_churn data."
   ]
  },
  {
   "cell_type": "markdown",
   "id": "f61634e4",
   "metadata": {},
   "source": [
    "##### 2a. Does tenure correlate with monthly charges?"
   ]
  },
  {
   "cell_type": "code",
   "execution_count": null,
   "id": "df26d8e2",
   "metadata": {},
   "outputs": [],
   "source": []
  },
  {
   "cell_type": "markdown",
   "id": "b3fb5c55",
   "metadata": {},
   "source": [
    "##### 2b. Total charges?"
   ]
  },
  {
   "cell_type": "code",
   "execution_count": null,
   "id": "73eb5cbe",
   "metadata": {},
   "outputs": [],
   "source": []
  },
  {
   "cell_type": "markdown",
   "id": "00894d34",
   "metadata": {},
   "source": [
    "##### 2c. What happens if you control for phone and internet service?"
   ]
  },
  {
   "cell_type": "code",
   "execution_count": null,
   "id": "7132ab0e",
   "metadata": {},
   "outputs": [],
   "source": []
  },
  {
   "cell_type": "markdown",
   "id": "11e60940",
   "metadata": {},
   "source": [
    "### 3. Use the employees database."
   ]
  },
  {
   "cell_type": "markdown",
   "id": "6f5270d5",
   "metadata": {},
   "source": [
    "##### 3a. Is there a relationship between how long an employee has been with the company and their salary?"
   ]
  },
  {
   "cell_type": "code",
   "execution_count": null,
   "id": "2af48c49",
   "metadata": {},
   "outputs": [],
   "source": []
  },
  {
   "cell_type": "markdown",
   "id": "ce8fd387",
   "metadata": {},
   "source": [
    "##### 3b. Is there a relationship between how long an employee has been with the company and the number of titles they have had?"
   ]
  },
  {
   "cell_type": "code",
   "execution_count": null,
   "id": "49cb0c65",
   "metadata": {},
   "outputs": [],
   "source": []
  },
  {
   "cell_type": "markdown",
   "id": "33cb4c21",
   "metadata": {},
   "source": [
    "### 4. Use the sleepstudy data."
   ]
  },
  {
   "cell_type": "markdown",
   "id": "de1f97ff",
   "metadata": {},
   "source": [
    "##### 4a. Is there a relationship between days and reaction time?"
   ]
  },
  {
   "cell_type": "code",
   "execution_count": null,
   "id": "93296e5e",
   "metadata": {},
   "outputs": [],
   "source": []
  },
  {
   "cell_type": "markdown",
   "id": "f8b50fa5",
   "metadata": {},
   "source": [
    "# =======================================================================================================\n",
    "# Correlation (4) END\n",
    "# Correlation (4) TO Comparison of Groups (4)\n",
    "# Comparison of Groups (4) START\n",
    "# ======================================================================================================="
   ]
  },
  {
   "cell_type": "markdown",
   "id": "8855f0ba",
   "metadata": {},
   "source": [
    "### 1. Answer with the type of stats test you would use (assume normal distribution):"
   ]
  },
  {
   "cell_type": "markdown",
   "id": "fa1650f9",
   "metadata": {},
   "source": [
    "##### 1a. Do students get better test grades if they have a rubber duck on their desk?"
   ]
  },
  {
   "cell_type": "code",
   "execution_count": null,
   "id": "37c3987d",
   "metadata": {},
   "outputs": [],
   "source": []
  },
  {
   "cell_type": "markdown",
   "id": "21a04b1a",
   "metadata": {},
   "source": [
    "##### 1b. Does smoking affect when or not someone has lung cancer?"
   ]
  },
  {
   "cell_type": "code",
   "execution_count": null,
   "id": "e9ca470b",
   "metadata": {},
   "outputs": [],
   "source": []
  },
  {
   "cell_type": "markdown",
   "id": "7782ba04",
   "metadata": {},
   "source": [
    "##### 1c. Is gender independent of a person’s blood type?"
   ]
  },
  {
   "cell_type": "code",
   "execution_count": null,
   "id": "7be991e4",
   "metadata": {},
   "outputs": [],
   "source": []
  },
  {
   "cell_type": "markdown",
   "id": "ec1d56f0",
   "metadata": {},
   "source": [
    "##### 1d. A farming company wants to know if a new fertilizer has improved crop yield or not"
   ]
  },
  {
   "cell_type": "code",
   "execution_count": null,
   "id": "240f6be2",
   "metadata": {},
   "outputs": [],
   "source": []
  },
  {
   "cell_type": "markdown",
   "id": "43c08294",
   "metadata": {},
   "source": [
    "##### 1e. Does the length of time of the lecture correlate with a students grade?"
   ]
  },
  {
   "cell_type": "code",
   "execution_count": null,
   "id": "2fe203d7",
   "metadata": {},
   "outputs": [],
   "source": []
  },
  {
   "cell_type": "markdown",
   "id": "d8d949fb",
   "metadata": {},
   "source": [
    "##### 1f. Do people with dogs live in apartments more than people with cats?"
   ]
  },
  {
   "cell_type": "code",
   "execution_count": null,
   "id": "21646477",
   "metadata": {},
   "outputs": [],
   "source": []
  },
  {
   "cell_type": "markdown",
   "id": "d40de498",
   "metadata": {},
   "source": [
    "### 2. Use the following contingency table to help answer the question of whether using a macbook and being a codeup student are independent of each other."
   ]
  },
  {
   "cell_type": "markdown",
   "id": "0b796c6d",
   "metadata": {},
   "source": [
    "| | Codeup Student | Not Codeup Student |\n",
    "| ----- | ------ | ------ |\n",
    "| Uses a Macbook | 49 | 20 |\n",
    "| Doesn't Use A Macbook\t| 1\t| 30 |"
   ]
  },
  {
   "cell_type": "code",
   "execution_count": null,
   "id": "40370b8b",
   "metadata": {},
   "outputs": [],
   "source": []
  },
  {
   "cell_type": "markdown",
   "id": "9fe085cd",
   "metadata": {},
   "source": [
    "### 3. Choose another 2 categorical variables from the mpg dataset and perform a chi^2 contingency table test with them. Be sure to state your null and alternative hypotheses."
   ]
  },
  {
   "cell_type": "code",
   "execution_count": null,
   "id": "584971fc",
   "metadata": {},
   "outputs": [],
   "source": []
  },
  {
   "cell_type": "markdown",
   "id": "5462467b",
   "metadata": {},
   "source": [
    "### 4. Use the data from the employees database to answer these questions:"
   ]
  },
  {
   "cell_type": "markdown",
   "id": "f06a98a8",
   "metadata": {},
   "source": [
    "##### 4a. Is an employee's gender independent of whether an employee works in sales or marketing? (only look at current employees)"
   ]
  },
  {
   "cell_type": "code",
   "execution_count": null,
   "id": "bdfead9e",
   "metadata": {},
   "outputs": [],
   "source": []
  },
  {
   "cell_type": "markdown",
   "id": "b594f947",
   "metadata": {},
   "source": [
    "##### 4b. Is an employee's gender independent of whether or not they are or have been a manager?"
   ]
  },
  {
   "cell_type": "code",
   "execution_count": null,
   "id": "e5dd04a7",
   "metadata": {},
   "outputs": [],
   "source": []
  },
  {
   "cell_type": "markdown",
   "id": "a96e8230",
   "metadata": {},
   "source": [
    "# =======================================================================================================\n",
    "# Comparison of Groups (4) END\n",
    "# Comparison of Groups (4) TO More Examples\n",
    "# More Examples START\n",
    "# ======================================================================================================="
   ]
  },
  {
   "cell_type": "markdown",
   "id": "37e4fc18",
   "metadata": {},
   "source": [
    "##### Choose several continous and categorical variables that were not covered in the lesson and perform each type of test on them. You may use another data set if you wish."
   ]
  },
  {
   "cell_type": "code",
   "execution_count": null,
   "id": "c48dbddf",
   "metadata": {},
   "outputs": [],
   "source": []
  },
  {
   "cell_type": "markdown",
   "id": "2c03e7ba",
   "metadata": {},
   "source": [
    "# =======================================================================================================\n",
    "# More Examples END\n",
    "# ======================================================================================================="
   ]
  }
 ],
 "metadata": {
  "kernelspec": {
   "display_name": "Python 3 (ipykernel)",
   "language": "python",
   "name": "python3"
  },
  "language_info": {
   "codemirror_mode": {
    "name": "ipython",
    "version": 3
   },
   "file_extension": ".py",
   "mimetype": "text/x-python",
   "name": "python",
   "nbconvert_exporter": "python",
   "pygments_lexer": "ipython3",
   "version": "3.9.13"
  }
 },
 "nbformat": 4,
 "nbformat_minor": 5
}
