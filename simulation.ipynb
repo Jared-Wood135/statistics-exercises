{
 "cells": [
  {
   "cell_type": "markdown",
   "id": "fe6e6949",
   "metadata": {},
   "source": [
    "# =======================================================================================================\n",
    "# Exercises (8) START\n",
    "# ======================================================================================================="
   ]
  },
  {
   "cell_type": "markdown",
   "id": "55d121f8",
   "metadata": {},
   "source": [
    "### 1. How likely is it that you roll doubles when rolling two dice?"
   ]
  },
  {
   "cell_type": "code",
   "execution_count": null,
   "id": "429c1674",
   "metadata": {},
   "outputs": [],
   "source": []
  },
  {
   "cell_type": "markdown",
   "id": "246e4e3f",
   "metadata": {},
   "source": [
    "### 2. If you flip 8 coins, what is the probability of getting exactly 3 heads? What is the probability of getting more than 3 heads?"
   ]
  },
  {
   "cell_type": "code",
   "execution_count": null,
   "id": "b6cbd111",
   "metadata": {},
   "outputs": [],
   "source": []
  },
  {
   "cell_type": "markdown",
   "id": "74af23fd",
   "metadata": {},
   "source": [
    "### 3. There are approximitely 3 web development cohorts for every 1 data science cohort at Codeup. Assuming that Codeup randomly selects an alumni to put on a billboard, what are the odds that the two billboards I drive past both have data science students on them?"
   ]
  },
  {
   "cell_type": "code",
   "execution_count": null,
   "id": "4bbdd1b7",
   "metadata": {},
   "outputs": [],
   "source": []
  },
  {
   "cell_type": "markdown",
   "id": "34be4b91",
   "metadata": {},
   "source": [
    "### 4. Codeup students buy, on average, 3 poptart packages with a standard deviation of 1.5 a day from the snack vending machine. If on monday the machine is restocked with 17 poptart packages, how likely is it that I will be able to buy some poptarts on Friday afternoon? (Remember, if you have mean and standard deviation, use the np.random.normal) You'll need to make a judgement call on how to handle some of your values"
   ]
  },
  {
   "cell_type": "code",
   "execution_count": null,
   "id": "972168e5",
   "metadata": {},
   "outputs": [],
   "source": []
  },
  {
   "cell_type": "markdown",
   "id": "405dd684",
   "metadata": {},
   "source": [
    "### 5. Compare Heights"
   ]
  },
  {
   "cell_type": "markdown",
   "id": "d73def57",
   "metadata": {},
   "source": [
    "##### 5a. Men have an average height of 178 cm and standard deviation of 8cm."
   ]
  },
  {
   "cell_type": "code",
   "execution_count": null,
   "id": "a1061939",
   "metadata": {},
   "outputs": [],
   "source": []
  },
  {
   "cell_type": "markdown",
   "id": "a91e9977",
   "metadata": {},
   "source": [
    "##### 5b. Women have a mean of 170, sd = 6cm."
   ]
  },
  {
   "cell_type": "code",
   "execution_count": null,
   "id": "2d8419e6",
   "metadata": {},
   "outputs": [],
   "source": []
  },
  {
   "cell_type": "markdown",
   "id": "3cdfb9dd",
   "metadata": {},
   "source": [
    "##### 5c. Since you have means and standard deviations, you can use np.random.normal to generate observations."
   ]
  },
  {
   "cell_type": "code",
   "execution_count": null,
   "id": "161d57c3",
   "metadata": {},
   "outputs": [],
   "source": []
  },
  {
   "cell_type": "markdown",
   "id": "5b438f25",
   "metadata": {},
   "source": [
    "##### 5d. If a man and woman are chosen at random, what is the likelihood the woman is taller than the man?"
   ]
  },
  {
   "cell_type": "code",
   "execution_count": null,
   "id": "406ac1d2",
   "metadata": {},
   "outputs": [],
   "source": []
  },
  {
   "cell_type": "markdown",
   "id": "8f1a007f",
   "metadata": {},
   "source": [
    "### 6. When installing anaconda on a student's computer, there's a 1 in 250 chance that the download is corrupted and the installation fails. "
   ]
  },
  {
   "cell_type": "markdown",
   "id": "f5a12784",
   "metadata": {},
   "source": [
    "##### 6a. What are the odds that after having 50 students download anaconda, no one has an installation issue? 100 students?"
   ]
  },
  {
   "cell_type": "code",
   "execution_count": null,
   "id": "c2bd1dde",
   "metadata": {},
   "outputs": [],
   "source": []
  },
  {
   "cell_type": "markdown",
   "id": "049e3bf7",
   "metadata": {},
   "source": [
    "##### 6b. What is the probability that we observe an installation issue within the first 150 students that download anaconda?"
   ]
  },
  {
   "cell_type": "code",
   "execution_count": null,
   "id": "3382609c",
   "metadata": {},
   "outputs": [],
   "source": []
  },
  {
   "cell_type": "markdown",
   "id": "7409434a",
   "metadata": {},
   "source": [
    "##### 6c. How likely is it that 450 students all download anaconda without an issue?"
   ]
  },
  {
   "cell_type": "code",
   "execution_count": null,
   "id": "42827bfe",
   "metadata": {},
   "outputs": [],
   "source": []
  },
  {
   "cell_type": "markdown",
   "id": "13a0f2b8",
   "metadata": {},
   "source": [
    "##### 7a. There's a 70% chance on any given day that there will be at least one food truck at Travis Park. However, you haven't seen a food truck there in 3 days. How unlikely is this?"
   ]
  },
  {
   "cell_type": "code",
   "execution_count": null,
   "id": "e46d0e67",
   "metadata": {},
   "outputs": [],
   "source": []
  },
  {
   "cell_type": "markdown",
   "id": "864f714e",
   "metadata": {},
   "source": [
    "##### 7b. How likely is it that a food truck will show up sometime this week?"
   ]
  },
  {
   "cell_type": "code",
   "execution_count": null,
   "id": "61f6c1bc",
   "metadata": {},
   "outputs": [],
   "source": []
  },
  {
   "cell_type": "markdown",
   "id": "9ce38fc9",
   "metadata": {},
   "source": [
    "### 8. If 23 people are in the same room, what are the odds that two of them share a birthday? What if it's 20 people? 40?"
   ]
  },
  {
   "cell_type": "code",
   "execution_count": null,
   "id": "1fc15265",
   "metadata": {},
   "outputs": [],
   "source": []
  },
  {
   "cell_type": "markdown",
   "id": "1374af26",
   "metadata": {},
   "source": [
    "# =======================================================================================================\n",
    "# Exercises (8) END\n",
    "# Exercises (8) TO Exercises Bonus (2)\n",
    "# Exercises Bonus (2) START\n",
    "# ======================================================================================================="
   ]
  },
  {
   "cell_type": "markdown",
   "id": "9ff81140",
   "metadata": {},
   "source": [
    "##### \"Mage Duel\": https://gist.github.com/ryanorsinger/2996446f02c1bf30fcb3f8fdb88bd51d"
   ]
  },
  {
   "cell_type": "markdown",
   "id": "bfa89008",
   "metadata": {},
   "source": [
    "##### \"Chuck a Luck\": https://gist.github.com/ryanorsinger/eac1d7b7e978f90b8390bdc056312123"
   ]
  },
  {
   "cell_type": "markdown",
   "id": "b158909f",
   "metadata": {},
   "source": [
    "# =======================================================================================================\n",
    "# Exercises Bonus (2) END\n",
    "# ======================================================================================================="
   ]
  }
 ],
 "metadata": {
  "kernelspec": {
   "display_name": "Python 3 (ipykernel)",
   "language": "python",
   "name": "python3"
  },
  "language_info": {
   "codemirror_mode": {
    "name": "ipython",
    "version": 3
   },
   "file_extension": ".py",
   "mimetype": "text/x-python",
   "name": "python",
   "nbconvert_exporter": "python",
   "pygments_lexer": "ipython3",
   "version": "3.9.13"
  }
 },
 "nbformat": 4,
 "nbformat_minor": 5
}
