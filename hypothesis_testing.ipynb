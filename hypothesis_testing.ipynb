{
 "cells": [
  {
   "cell_type": "markdown",
   "id": "aea8b5c3",
   "metadata": {},
   "source": [
    "# =======================================================================================================\n",
    "# Overview (3) START\n",
    "# ======================================================================================================="
   ]
  },
  {
   "cell_type": "markdown",
   "id": "7750bef7",
   "metadata": {},
   "source": [
    "##### For each of the following questions, formulate a null and alternative hypothesis (be as specific as you can be), then give an example of what a true positive, true negative, type I and type II errors would look like. Note that some of the questions are intentionally phrased in a vague way. It is your job to reword these as more precise questions that could be tested."
   ]
  },
  {
   "cell_type": "code",
   "execution_count": 172,
   "id": "3310e5ec",
   "metadata": {},
   "outputs": [],
   "source": [
    "import numpy as np\n",
    "import pandas as pd\n",
    "import seaborn as sns\n",
    "import matplotlib.pyplot as plt\n",
    "import scipy.stats as stats\n",
    "from pydataset import data\n",
    "import env\n",
    "import datetime"
   ]
  },
  {
   "cell_type": "markdown",
   "id": "c8f2c17e",
   "metadata": {},
   "source": [
    "### 1. Has the network latency gone up since we switched internet service providers?"
   ]
  },
  {
   "cell_type": "code",
   "execution_count": null,
   "id": "6667998a",
   "metadata": {},
   "outputs": [],
   "source": [
    "# H0: Network latency is the same or less since\n",
    "# switching internet providers\n",
    "\n",
    "# Ha: Network latency increased since switching\n",
    "# internet providers\n",
    "\n",
    "# True Pos: Network latency increased\n",
    "\n",
    "# True Neg: Network latency same or decreased\n",
    "\n",
    "# Type I Error: Network latency same or decreased\n",
    "\n",
    "# Type II Error: Network latency increased, but\n",
    "# assumed that it would be the same"
   ]
  },
  {
   "cell_type": "markdown",
   "id": "670b6945",
   "metadata": {},
   "source": [
    "### 2. Is the website redesign any good?"
   ]
  },
  {
   "cell_type": "code",
   "execution_count": null,
   "id": "ef47fcf6",
   "metadata": {},
   "outputs": [],
   "source": [
    "# H0: Website redesign reviews were the same or\n",
    "# less positive than last website design\n",
    "\n",
    "# Ha: Website redesign reviews more positive than\n",
    "# last website design\n",
    "\n",
    "# True Pos: Website redesign reviews more positive\n",
    "\n",
    "# True Neg: Website redesign reviews the same or\n",
    "# less positive\n",
    "\n",
    "# Type I Error: Website redesign reviews the same\n",
    "# or less positive\n",
    "\n",
    "# Type II Error: Website redesign reviews more positive,\n",
    "# but assumed it would be the same or less"
   ]
  },
  {
   "cell_type": "markdown",
   "id": "4e488136",
   "metadata": {},
   "source": [
    "### 3. Is our television ad driving more sales?"
   ]
  },
  {
   "cell_type": "code",
   "execution_count": null,
   "id": "b3d6d2d7",
   "metadata": {},
   "outputs": [],
   "source": [
    "# H0: TV ad is the same or less amount of sales\n",
    "# than last TV ad\n",
    "\n",
    "# Ha: TV ad is driving more sales than last TV ad\n",
    "\n",
    "# True Pos: TV ad has more sales\n",
    "\n",
    "# True Neg: TV ad has same or less sales\n",
    "\n",
    "# Type I Error: TV ad same or less sales\n",
    "\n",
    "# Type II Error: TV ad more sales, but assumed\n",
    "# that it would be the same or less"
   ]
  },
  {
   "cell_type": "markdown",
   "id": "1cb9000c",
   "metadata": {},
   "source": [
    "# =======================================================================================================\n",
    "# Overview (3) END\n",
    "# Overview (3) TO Comparison of Means (3)\n",
    "# Comparison of Means (3) START\n",
    "# ======================================================================================================="
   ]
  },
  {
   "cell_type": "markdown",
   "id": "a8ec8aa8",
   "metadata": {},
   "source": [
    "### 1. Answer with the type of test you would use (assume normal distribution):"
   ]
  },
  {
   "cell_type": "markdown",
   "id": "66245189",
   "metadata": {},
   "source": [
    "##### 1a. Is there a difference in grades of students on the second floor compared to grades of all students?"
   ]
  },
  {
   "cell_type": "code",
   "execution_count": null,
   "id": "c96c7083",
   "metadata": {},
   "outputs": [],
   "source": [
    "# H0: 2nd Floor student grades are similar to others\n",
    "# Ha: 2nd Floor students have a higher overall grade\n",
    "# one sample\n",
    "# two tail\n",
    "# stats.ttest_1samp(a, μth)"
   ]
  },
  {
   "cell_type": "markdown",
   "id": "4ffcdab5",
   "metadata": {},
   "source": [
    "##### 1b. Are adults who drink milk taller than adults who dont drink milk?"
   ]
  },
  {
   "cell_type": "code",
   "execution_count": null,
   "id": "977d2807",
   "metadata": {},
   "outputs": [],
   "source": [
    "# H0: Adults who drink milk are equal or shorter than those who do not\n",
    "# Ha: Adults who drink milk are taller than those who do not\n",
    "# two sample\n",
    "# one tail\n",
    "# stats.ttest_ind(drinkmilk, nomilk)"
   ]
  },
  {
   "cell_type": "markdown",
   "id": "6a0e1cbb",
   "metadata": {},
   "source": [
    "##### 1c. Is the the price of gas higher in texas or in new mexico?"
   ]
  },
  {
   "cell_type": "code",
   "execution_count": null,
   "id": "6e0735b0",
   "metadata": {},
   "outputs": [],
   "source": [
    "# H0: Gas is equal or lower in New Mexico than Texas\n",
    "# Ha: Gas is higher in New Mexico than Texas\n",
    "# two sample\n",
    "# one tail\n",
    "# stats.ttestt_ind(new_mexico, texas)"
   ]
  },
  {
   "cell_type": "markdown",
   "id": "bcc3780c",
   "metadata": {},
   "source": [
    "##### 1d. Are there differences in stress levels between students who take data science vs students who take web development vs students who take cloud academy?"
   ]
  },
  {
   "cell_type": "code",
   "execution_count": null,
   "id": "d0a674dd",
   "metadata": {},
   "outputs": [],
   "source": [
    "# H0: Gas is equal or lower in New Mexico than Texas\n",
    "# Ha: Gas is higher in New Mexico than Texas\n",
    "# three sample\n",
    "# two tail\n",
    "# stats.f_oneway()"
   ]
  },
  {
   "cell_type": "markdown",
   "id": "bce4877a",
   "metadata": {},
   "source": [
    "### 2. Ace Realty wants to determine whether the average time it takes to sell homes is different for its two offices. A sample of 40 sales from office #1 revealed a mean of 90 days and a standard deviation of 15 days. A sample of 50 sales from office #2 revealed a mean of 100 days and a standard deviation of 20 days. Use a .05 level of significance."
   ]
  },
  {
   "cell_type": "code",
   "execution_count": 52,
   "id": "e2feed3e",
   "metadata": {},
   "outputs": [],
   "source": [
    "# office 1 sample: 40\n",
    "# office 1 mean: 90\n",
    "# office 1 std: 15\n",
    "# office 2 sample: 50\n",
    "# office 2 mean: 100\n",
    "# office 2 std: 20\n",
    "# alpha: 0.05\n",
    "office_stat, office_p = stats.ttest_ind_from_stats(90, 15, 40, 100, 20, 50)"
   ]
  },
  {
   "cell_type": "code",
   "execution_count": 54,
   "id": "ea6515d7",
   "metadata": {},
   "outputs": [
    {
     "data": {
      "text/plain": [
       "True"
      ]
     },
     "execution_count": 54,
     "metadata": {},
     "output_type": "execute_result"
    }
   ],
   "source": [
    "office_stat < 0"
   ]
  },
  {
   "cell_type": "code",
   "execution_count": 55,
   "id": "1247ff5e",
   "metadata": {},
   "outputs": [
    {
     "data": {
      "text/plain": [
       "True"
      ]
     },
     "execution_count": 55,
     "metadata": {},
     "output_type": "execute_result"
    }
   ],
   "source": [
    "office_p < 0.05"
   ]
  },
  {
   "cell_type": "code",
   "execution_count": 56,
   "id": "9eff5082",
   "metadata": {},
   "outputs": [],
   "source": [
    "# ttable_stat: True\n",
    "# ttable_p: True\n",
    "# Office 1 takes less time than office 2"
   ]
  },
  {
   "cell_type": "markdown",
   "id": "75e795c4",
   "metadata": {},
   "source": [
    "### 3. Load the mpg dataset and use it to answer the following questions:"
   ]
  },
  {
   "cell_type": "code",
   "execution_count": 3,
   "id": "bf357f61",
   "metadata": {},
   "outputs": [],
   "source": [
    "mpg = data('mpg')"
   ]
  },
  {
   "cell_type": "code",
   "execution_count": 4,
   "id": "23845d54",
   "metadata": {},
   "outputs": [
    {
     "data": {
      "text/html": [
       "<div>\n",
       "<style scoped>\n",
       "    .dataframe tbody tr th:only-of-type {\n",
       "        vertical-align: middle;\n",
       "    }\n",
       "\n",
       "    .dataframe tbody tr th {\n",
       "        vertical-align: top;\n",
       "    }\n",
       "\n",
       "    .dataframe thead th {\n",
       "        text-align: right;\n",
       "    }\n",
       "</style>\n",
       "<table border=\"1\" class=\"dataframe\">\n",
       "  <thead>\n",
       "    <tr style=\"text-align: right;\">\n",
       "      <th></th>\n",
       "      <th>manufacturer</th>\n",
       "      <th>model</th>\n",
       "      <th>displ</th>\n",
       "      <th>year</th>\n",
       "      <th>cyl</th>\n",
       "      <th>trans</th>\n",
       "      <th>drv</th>\n",
       "      <th>cty</th>\n",
       "      <th>hwy</th>\n",
       "      <th>fl</th>\n",
       "      <th>class</th>\n",
       "    </tr>\n",
       "  </thead>\n",
       "  <tbody>\n",
       "    <tr>\n",
       "      <th>12</th>\n",
       "      <td>audi</td>\n",
       "      <td>a4 quattro</td>\n",
       "      <td>2.8</td>\n",
       "      <td>1999</td>\n",
       "      <td>6</td>\n",
       "      <td>auto(l5)</td>\n",
       "      <td>4</td>\n",
       "      <td>15</td>\n",
       "      <td>25</td>\n",
       "      <td>p</td>\n",
       "      <td>compact</td>\n",
       "    </tr>\n",
       "  </tbody>\n",
       "</table>\n",
       "</div>"
      ],
      "text/plain": [
       "   manufacturer       model  displ  year  cyl     trans drv  cty  hwy fl  \\\n",
       "12         audi  a4 quattro    2.8  1999    6  auto(l5)   4   15   25  p   \n",
       "\n",
       "      class  \n",
       "12  compact  "
      ]
     },
     "execution_count": 4,
     "metadata": {},
     "output_type": "execute_result"
    }
   ],
   "source": [
    "mpg.sample()"
   ]
  },
  {
   "cell_type": "markdown",
   "id": "f9f01da6",
   "metadata": {},
   "source": [
    "##### 3a. Is there a difference in fuel-efficiency in cars from 2008 vs 1999?"
   ]
  },
  {
   "cell_type": "code",
   "execution_count": null,
   "id": "2efed736",
   "metadata": {},
   "outputs": [],
   "source": [
    "# H0: 2008 cars have equal or less mpg than 1999 cars\n",
    "# Ha: 2008 cars have more mpg than 1999 cars\n",
    "# Two samples\n",
    "# One tail"
   ]
  },
  {
   "cell_type": "code",
   "execution_count": 9,
   "id": "3260cc24",
   "metadata": {},
   "outputs": [],
   "source": [
    "mpg['combined_mpg'] = (mpg.cty + mpg.hwy) / 2"
   ]
  },
  {
   "cell_type": "code",
   "execution_count": 11,
   "id": "7c54cdca",
   "metadata": {},
   "outputs": [
    {
     "data": {
      "text/html": [
       "<div>\n",
       "<style scoped>\n",
       "    .dataframe tbody tr th:only-of-type {\n",
       "        vertical-align: middle;\n",
       "    }\n",
       "\n",
       "    .dataframe tbody tr th {\n",
       "        vertical-align: top;\n",
       "    }\n",
       "\n",
       "    .dataframe thead th {\n",
       "        text-align: right;\n",
       "    }\n",
       "</style>\n",
       "<table border=\"1\" class=\"dataframe\">\n",
       "  <thead>\n",
       "    <tr style=\"text-align: right;\">\n",
       "      <th></th>\n",
       "      <th>manufacturer</th>\n",
       "      <th>model</th>\n",
       "      <th>displ</th>\n",
       "      <th>year</th>\n",
       "      <th>cyl</th>\n",
       "      <th>trans</th>\n",
       "      <th>drv</th>\n",
       "      <th>cty</th>\n",
       "      <th>hwy</th>\n",
       "      <th>fl</th>\n",
       "      <th>class</th>\n",
       "      <th>combined_mpg</th>\n",
       "    </tr>\n",
       "  </thead>\n",
       "  <tbody>\n",
       "    <tr>\n",
       "      <th>188</th>\n",
       "      <td>toyota</td>\n",
       "      <td>camry solara</td>\n",
       "      <td>2.2</td>\n",
       "      <td>1999</td>\n",
       "      <td>4</td>\n",
       "      <td>manual(m5)</td>\n",
       "      <td>f</td>\n",
       "      <td>21</td>\n",
       "      <td>29</td>\n",
       "      <td>r</td>\n",
       "      <td>compact</td>\n",
       "      <td>25.0</td>\n",
       "    </tr>\n",
       "  </tbody>\n",
       "</table>\n",
       "</div>"
      ],
      "text/plain": [
       "    manufacturer         model  displ  year  cyl       trans drv  cty  hwy fl  \\\n",
       "188       toyota  camry solara    2.2  1999    4  manual(m5)   f   21   29  r   \n",
       "\n",
       "       class  combined_mpg  \n",
       "188  compact          25.0  "
      ]
     },
     "execution_count": 11,
     "metadata": {},
     "output_type": "execute_result"
    }
   ],
   "source": [
    "mpg.sample()"
   ]
  },
  {
   "cell_type": "code",
   "execution_count": 13,
   "id": "53db970c",
   "metadata": {},
   "outputs": [],
   "source": [
    "mpg_1999 = mpg[mpg.year == 1999].combined_mpg\n",
    "mpg_2008 = mpg[mpg.year == 2008].combined_mpg"
   ]
  },
  {
   "cell_type": "code",
   "execution_count": 39,
   "id": "44c4b508",
   "metadata": {},
   "outputs": [
    {
     "data": {
      "text/plain": [
       "LeveneResult(statistic=0.033228136671080453, pvalue=0.855517569468803)"
      ]
     },
     "execution_count": 39,
     "metadata": {},
     "output_type": "execute_result"
    }
   ],
   "source": [
    "# Levene: False\n",
    "stats.levene(mpg_2008, mpg_1999)"
   ]
  },
  {
   "cell_type": "code",
   "execution_count": 40,
   "id": "e352e726",
   "metadata": {},
   "outputs": [],
   "source": [
    "mpg_stat, mpg_p = stats.ttest_ind(mpg_2008, mpg_1999, equal_var=False)"
   ]
  },
  {
   "cell_type": "code",
   "execution_count": 41,
   "id": "8c726403",
   "metadata": {},
   "outputs": [
    {
     "data": {
      "text/plain": [
       "False"
      ]
     },
     "execution_count": 41,
     "metadata": {},
     "output_type": "execute_result"
    }
   ],
   "source": [
    "mpg_stat > 0"
   ]
  },
  {
   "cell_type": "code",
   "execution_count": 42,
   "id": "bc9d13b0",
   "metadata": {},
   "outputs": [
    {
     "data": {
      "text/plain": [
       "False"
      ]
     },
     "execution_count": 42,
     "metadata": {},
     "output_type": "execute_result"
    }
   ],
   "source": [
    "(mpg_p / 2) < 0.05"
   ]
  },
  {
   "cell_type": "code",
   "execution_count": 19,
   "id": "1d8e29a4",
   "metadata": {},
   "outputs": [],
   "source": [
    "# Based off of tttest_ind:\n",
    "# null hypothesis is true\n",
    "# There isn't a strong difference in mpg"
   ]
  },
  {
   "cell_type": "markdown",
   "id": "3fb078ec",
   "metadata": {},
   "source": [
    "##### 3b. Are compact cars more fuel-efficient than the average car?"
   ]
  },
  {
   "cell_type": "code",
   "execution_count": 20,
   "id": "e4a3f1fa",
   "metadata": {},
   "outputs": [],
   "source": [
    "# H0: Compact cars have equal or less mpg than non-compact cars\n",
    "# Ha: Compact cars have better mpg than non-compact cars\n",
    "# Two samples\n",
    "# One Tail"
   ]
  },
  {
   "cell_type": "code",
   "execution_count": 28,
   "id": "a08c26af",
   "metadata": {},
   "outputs": [
    {
     "data": {
      "text/plain": [
       "suv           62\n",
       "compact       47\n",
       "midsize       41\n",
       "subcompact    35\n",
       "pickup        33\n",
       "minivan       11\n",
       "2seater        5\n",
       "Name: class, dtype: int64"
      ]
     },
     "execution_count": 28,
     "metadata": {},
     "output_type": "execute_result"
    }
   ],
   "source": [
    "mpg['class'].value_counts()"
   ]
  },
  {
   "cell_type": "code",
   "execution_count": 34,
   "id": "05c2498b",
   "metadata": {},
   "outputs": [],
   "source": [
    "compact_mpg = mpg[mpg['class'] == 'compact'].combined_mpg\n",
    "noncompact_mpg = mpg[mpg['class'] != 'compact'].combined_mpg"
   ]
  },
  {
   "cell_type": "code",
   "execution_count": 38,
   "id": "8c845a4f",
   "metadata": {},
   "outputs": [
    {
     "data": {
      "text/plain": [
       "True"
      ]
     },
     "execution_count": 38,
     "metadata": {},
     "output_type": "execute_result"
    }
   ],
   "source": [
    "# Levene: True... Inequal variance\n",
    "stats.levene(compact_mpg, noncompact_mpg)[1] < 0.05"
   ]
  },
  {
   "cell_type": "code",
   "execution_count": 46,
   "id": "14a8b0fd",
   "metadata": {},
   "outputs": [],
   "source": [
    "compact_stat, compact_p = stats.ttest_ind(compact_mpg, noncompact_mpg)"
   ]
  },
  {
   "cell_type": "code",
   "execution_count": 49,
   "id": "06c6b70d",
   "metadata": {},
   "outputs": [
    {
     "data": {
      "text/plain": [
       "True"
      ]
     },
     "execution_count": 49,
     "metadata": {},
     "output_type": "execute_result"
    }
   ],
   "source": [
    "(compact_p / 2) < 0.05"
   ]
  },
  {
   "cell_type": "code",
   "execution_count": 47,
   "id": "93ea9029",
   "metadata": {},
   "outputs": [
    {
     "data": {
      "text/plain": [
       "True"
      ]
     },
     "execution_count": 47,
     "metadata": {},
     "output_type": "execute_result"
    }
   ],
   "source": [
    "compact_stat > 0"
   ]
  },
  {
   "cell_type": "code",
   "execution_count": null,
   "id": "eda13dca",
   "metadata": {},
   "outputs": [],
   "source": [
    "# levene: True\n",
    "# ttest_p: True\n",
    "# ttest_stat: True\n",
    "# Compact cars do have better mpg than non-compact"
   ]
  },
  {
   "cell_type": "markdown",
   "id": "46bb6b3e",
   "metadata": {},
   "source": [
    "##### 3c. Do manual cars get better gas mileage than automatic cars?"
   ]
  },
  {
   "cell_type": "code",
   "execution_count": 71,
   "id": "04967c31",
   "metadata": {},
   "outputs": [],
   "source": [
    "# H0: Manual cars have equal or less mpg than auto cars\n",
    "# Ha: Manual cars have higher mpg than auto cars\n",
    "\n",
    "# Levene: False\n",
    "# ttable_stat: True\n",
    "# ttable_p: True\n",
    "\n",
    "# H0 or Ha?: Ha\n",
    "# Manual cars get better mpg than auto cars"
   ]
  },
  {
   "cell_type": "code",
   "execution_count": 65,
   "id": "db38bc17",
   "metadata": {},
   "outputs": [],
   "source": [
    "auto_mpg = mpg[mpg.trans.str.startswith('auto')].combined_mpg\n",
    "manual_mpg = mpg[mpg.trans.str.startswith('manual')].combined_mpg"
   ]
  },
  {
   "cell_type": "code",
   "execution_count": 66,
   "id": "724740f3",
   "metadata": {},
   "outputs": [
    {
     "data": {
      "text/plain": [
       "LeveneResult(statistic=0.20075824847529639, pvalue=0.6545276355131857)"
      ]
     },
     "execution_count": 66,
     "metadata": {},
     "output_type": "execute_result"
    }
   ],
   "source": [
    "stats.levene(manual_mpg, auto_mpg)"
   ]
  },
  {
   "cell_type": "code",
   "execution_count": 68,
   "id": "1a0cbed9",
   "metadata": {},
   "outputs": [],
   "source": [
    "trans_stat, trans_p = stats.ttest_ind(manual_mpg, auto_mpg, equal_var=False)"
   ]
  },
  {
   "cell_type": "code",
   "execution_count": 69,
   "id": "b5cf65ee",
   "metadata": {},
   "outputs": [
    {
     "data": {
      "text/plain": [
       "True"
      ]
     },
     "execution_count": 69,
     "metadata": {},
     "output_type": "execute_result"
    }
   ],
   "source": [
    "trans_stat > 0"
   ]
  },
  {
   "cell_type": "code",
   "execution_count": 70,
   "id": "e43a4b0e",
   "metadata": {},
   "outputs": [
    {
     "data": {
      "text/plain": [
       "True"
      ]
     },
     "execution_count": 70,
     "metadata": {},
     "output_type": "execute_result"
    }
   ],
   "source": [
    "(trans_p / 2) < 0.05"
   ]
  },
  {
   "cell_type": "markdown",
   "id": "7b13ef05",
   "metadata": {},
   "source": [
    "# =======================================================================================================\n",
    "# Comparison of Means (3) END\n",
    "# Comparison of Means (3) TO Correlation (4)\n",
    "# Correlation (4) START\n",
    "# ======================================================================================================="
   ]
  },
  {
   "cell_type": "markdown",
   "id": "7d4f615e",
   "metadata": {},
   "source": [
    "### 1. Answer with the type of stats test you would use (assume normal distribution):"
   ]
  },
  {
   "cell_type": "markdown",
   "id": "4f19b9b6",
   "metadata": {},
   "source": [
    "##### 1a. Is there a relationship between the length of your arm and the length of your foot?"
   ]
  },
  {
   "cell_type": "code",
   "execution_count": null,
   "id": "0148f53b",
   "metadata": {},
   "outputs": [],
   "source": [
    "# two samples\n",
    "# Continuous vs Continuous\n",
    "# stats.ttest(arm, foot)"
   ]
  },
  {
   "cell_type": "markdown",
   "id": "66800b7d",
   "metadata": {},
   "source": [
    "##### 1b. Do guys and gals quit their jobs at the same rate?"
   ]
  },
  {
   "cell_type": "code",
   "execution_count": null,
   "id": "51a99548",
   "metadata": {},
   "outputs": [],
   "source": [
    "# two samples\n",
    "# Discrete vs Discrete\n",
    "# stats.chi2_contingency(observed<guy & gal>)"
   ]
  },
  {
   "cell_type": "markdown",
   "id": "3669b591",
   "metadata": {},
   "source": [
    "##### 1c. Does the length of time of the lecture correlate with a students grade?"
   ]
  },
  {
   "cell_type": "code",
   "execution_count": null,
   "id": "c9adc784",
   "metadata": {},
   "outputs": [],
   "source": [
    "# two samples\n",
    "# Discrete vs Continuous\n",
    "# stats.chi"
   ]
  },
  {
   "cell_type": "markdown",
   "id": "29b57097",
   "metadata": {},
   "source": [
    "### 2. Use the telco_churn data."
   ]
  },
  {
   "cell_type": "code",
   "execution_count": 92,
   "id": "5d625f65",
   "metadata": {
    "scrolled": true
   },
   "outputs": [],
   "source": [
    "telco = pd.read_csv('telco_data.csv', sep = '\\t', encoding='UTF-16')"
   ]
  },
  {
   "cell_type": "code",
   "execution_count": 93,
   "id": "dc3d4214",
   "metadata": {},
   "outputs": [
    {
     "data": {
      "text/html": [
       "<div>\n",
       "<style scoped>\n",
       "    .dataframe tbody tr th:only-of-type {\n",
       "        vertical-align: middle;\n",
       "    }\n",
       "\n",
       "    .dataframe tbody tr th {\n",
       "        vertical-align: top;\n",
       "    }\n",
       "\n",
       "    .dataframe thead th {\n",
       "        text-align: right;\n",
       "    }\n",
       "</style>\n",
       "<table border=\"1\" class=\"dataframe\">\n",
       "  <thead>\n",
       "    <tr style=\"text-align: right;\">\n",
       "      <th></th>\n",
       "      <th>Add-on Count</th>\n",
       "      <th>Churn</th>\n",
       "      <th>Contract</th>\n",
       "      <th>Customer ID</th>\n",
       "      <th>Dependents</th>\n",
       "      <th>Device Protection</th>\n",
       "      <th>Gender</th>\n",
       "      <th>Internet Service</th>\n",
       "      <th>Multiple Lines</th>\n",
       "      <th>Online Backup</th>\n",
       "      <th>...</th>\n",
       "      <th>Tech Support</th>\n",
       "      <th>with Online Backup</th>\n",
       "      <th>with Online Security</th>\n",
       "      <th>with Streaming Movies</th>\n",
       "      <th>with Streaming TV</th>\n",
       "      <th>with Tech Support</th>\n",
       "      <th>Estimated Tenure(months)</th>\n",
       "      <th>Monthly Charges</th>\n",
       "      <th>Tenure</th>\n",
       "      <th>Total Charges</th>\n",
       "    </tr>\n",
       "  </thead>\n",
       "  <tbody>\n",
       "    <tr>\n",
       "      <th>0</th>\n",
       "      <td>0</td>\n",
       "      <td>No</td>\n",
       "      <td>Month-to-month</td>\n",
       "      <td>7590-VHVEG</td>\n",
       "      <td>None</td>\n",
       "      <td>Device Wiithout Protection</td>\n",
       "      <td>Female</td>\n",
       "      <td>DSL</td>\n",
       "      <td>No phone service</td>\n",
       "      <td>Online Backup</td>\n",
       "      <td>...</td>\n",
       "      <td>Support Not Contacted</td>\n",
       "      <td>0</td>\n",
       "      <td>0</td>\n",
       "      <td>0</td>\n",
       "      <td>0</td>\n",
       "      <td>0</td>\n",
       "      <td>1.0</td>\n",
       "      <td>29.85</td>\n",
       "      <td>1</td>\n",
       "      <td>29.85</td>\n",
       "    </tr>\n",
       "    <tr>\n",
       "      <th>1</th>\n",
       "      <td>0</td>\n",
       "      <td>No</td>\n",
       "      <td>One year</td>\n",
       "      <td>5575-GNVDE</td>\n",
       "      <td>None</td>\n",
       "      <td>Protected Device</td>\n",
       "      <td>Male</td>\n",
       "      <td>DSL</td>\n",
       "      <td>Single Line</td>\n",
       "      <td>Internet With No Backup</td>\n",
       "      <td>...</td>\n",
       "      <td>Support Not Contacted</td>\n",
       "      <td>0</td>\n",
       "      <td>0</td>\n",
       "      <td>0</td>\n",
       "      <td>0</td>\n",
       "      <td>0</td>\n",
       "      <td>33.0</td>\n",
       "      <td>56.95</td>\n",
       "      <td>34</td>\n",
       "      <td>1889.50</td>\n",
       "    </tr>\n",
       "    <tr>\n",
       "      <th>2</th>\n",
       "      <td>0</td>\n",
       "      <td>Yes</td>\n",
       "      <td>Month-to-month</td>\n",
       "      <td>3668-QPYBK</td>\n",
       "      <td>None</td>\n",
       "      <td>Device Wiithout Protection</td>\n",
       "      <td>Male</td>\n",
       "      <td>DSL</td>\n",
       "      <td>Single Line</td>\n",
       "      <td>Online Backup</td>\n",
       "      <td>...</td>\n",
       "      <td>Support Not Contacted</td>\n",
       "      <td>0</td>\n",
       "      <td>0</td>\n",
       "      <td>0</td>\n",
       "      <td>0</td>\n",
       "      <td>0</td>\n",
       "      <td>2.0</td>\n",
       "      <td>53.85</td>\n",
       "      <td>2</td>\n",
       "      <td>108.15</td>\n",
       "    </tr>\n",
       "    <tr>\n",
       "      <th>3</th>\n",
       "      <td>0</td>\n",
       "      <td>No</td>\n",
       "      <td>One year</td>\n",
       "      <td>7795-CFOCW</td>\n",
       "      <td>None</td>\n",
       "      <td>Protected Device</td>\n",
       "      <td>Male</td>\n",
       "      <td>DSL</td>\n",
       "      <td>No phone service</td>\n",
       "      <td>Internet With No Backup</td>\n",
       "      <td>...</td>\n",
       "      <td>Has a Support Ticket</td>\n",
       "      <td>0</td>\n",
       "      <td>0</td>\n",
       "      <td>0</td>\n",
       "      <td>0</td>\n",
       "      <td>0</td>\n",
       "      <td>43.0</td>\n",
       "      <td>42.30</td>\n",
       "      <td>45</td>\n",
       "      <td>1840.75</td>\n",
       "    </tr>\n",
       "    <tr>\n",
       "      <th>4</th>\n",
       "      <td>0</td>\n",
       "      <td>Yes</td>\n",
       "      <td>Month-to-month</td>\n",
       "      <td>9237-HQITU</td>\n",
       "      <td>None</td>\n",
       "      <td>Device Wiithout Protection</td>\n",
       "      <td>Female</td>\n",
       "      <td>Fiber optic</td>\n",
       "      <td>Single Line</td>\n",
       "      <td>Internet With No Backup</td>\n",
       "      <td>...</td>\n",
       "      <td>Support Not Contacted</td>\n",
       "      <td>0</td>\n",
       "      <td>0</td>\n",
       "      <td>0</td>\n",
       "      <td>0</td>\n",
       "      <td>0</td>\n",
       "      <td>2.0</td>\n",
       "      <td>70.70</td>\n",
       "      <td>2</td>\n",
       "      <td>151.65</td>\n",
       "    </tr>\n",
       "  </tbody>\n",
       "</table>\n",
       "<p>5 rows × 29 columns</p>\n",
       "</div>"
      ],
      "text/plain": [
       "   Add-on Count Churn        Contract Customer ID Dependents  \\\n",
       "0             0    No  Month-to-month  7590-VHVEG       None   \n",
       "1             0    No        One year  5575-GNVDE       None   \n",
       "2             0   Yes  Month-to-month  3668-QPYBK       None   \n",
       "3             0    No        One year  7795-CFOCW       None   \n",
       "4             0   Yes  Month-to-month  9237-HQITU       None   \n",
       "\n",
       "            Device Protection  Gender Internet Service    Multiple Lines  \\\n",
       "0  Device Wiithout Protection  Female              DSL  No phone service   \n",
       "1            Protected Device    Male              DSL       Single Line   \n",
       "2  Device Wiithout Protection    Male              DSL       Single Line   \n",
       "3            Protected Device    Male              DSL  No phone service   \n",
       "4  Device Wiithout Protection  Female      Fiber optic       Single Line   \n",
       "\n",
       "             Online Backup  ...           Tech Support with Online Backup  \\\n",
       "0            Online Backup  ...  Support Not Contacted                  0   \n",
       "1  Internet With No Backup  ...  Support Not Contacted                  0   \n",
       "2            Online Backup  ...  Support Not Contacted                  0   \n",
       "3  Internet With No Backup  ...   Has a Support Ticket                  0   \n",
       "4  Internet With No Backup  ...  Support Not Contacted                  0   \n",
       "\n",
       "  with Online Security with Streaming Movies with Streaming TV  \\\n",
       "0                    0                     0                 0   \n",
       "1                    0                     0                 0   \n",
       "2                    0                     0                 0   \n",
       "3                    0                     0                 0   \n",
       "4                    0                     0                 0   \n",
       "\n",
       "  with Tech Support Estimated Tenure(months) Monthly Charges Tenure  \\\n",
       "0                 0                      1.0           29.85      1   \n",
       "1                 0                     33.0           56.95     34   \n",
       "2                 0                      2.0           53.85      2   \n",
       "3                 0                     43.0           42.30     45   \n",
       "4                 0                      2.0           70.70      2   \n",
       "\n",
       "  Total Charges  \n",
       "0         29.85  \n",
       "1       1889.50  \n",
       "2        108.15  \n",
       "3       1840.75  \n",
       "4        151.65  \n",
       "\n",
       "[5 rows x 29 columns]"
      ]
     },
     "execution_count": 93,
     "metadata": {},
     "output_type": "execute_result"
    }
   ],
   "source": [
    "telco.head()"
   ]
  },
  {
   "cell_type": "markdown",
   "id": "f61634e4",
   "metadata": {},
   "source": [
    "##### 2a. Does tenure correlate with monthly charges?"
   ]
  },
  {
   "cell_type": "code",
   "execution_count": 95,
   "id": "df26d8e2",
   "metadata": {},
   "outputs": [
    {
     "data": {
      "text/plain": [
       "PearsonRResult(statistic=0.24789985628615002, pvalue=4.0940449915016345e-99)"
      ]
     },
     "execution_count": 95,
     "metadata": {},
     "output_type": "execute_result"
    }
   ],
   "source": [
    "# Tenure: Discrete\n",
    "# Monthly Charges: Continuous\n",
    "# Correlation: No\n",
    "stats.pearsonr(telco.Tenure, telco['Monthly Charges'])"
   ]
  },
  {
   "cell_type": "markdown",
   "id": "b3fb5c55",
   "metadata": {},
   "source": [
    "##### 2b. Total charges?"
   ]
  },
  {
   "cell_type": "code",
   "execution_count": 105,
   "id": "de1c7e7b",
   "metadata": {},
   "outputs": [
    {
     "data": {
      "text/plain": [
       "False    7032\n",
       "True       11\n",
       "Name: Total Charges, dtype: int64"
      ]
     },
     "execution_count": 105,
     "metadata": {},
     "output_type": "execute_result"
    }
   ],
   "source": [
    "telco['Total Charges'].isna().value_counts()"
   ]
  },
  {
   "cell_type": "code",
   "execution_count": 108,
   "id": "d79150e0",
   "metadata": {},
   "outputs": [],
   "source": [
    "total_charges_nona = telco[telco['Total Charges'].isna() == False]"
   ]
  },
  {
   "cell_type": "code",
   "execution_count": 110,
   "id": "73eb5cbe",
   "metadata": {},
   "outputs": [
    {
     "data": {
      "text/plain": [
       "PearsonRResult(statistic=0.825880460933202, pvalue=0.0)"
      ]
     },
     "execution_count": 110,
     "metadata": {},
     "output_type": "execute_result"
    }
   ],
   "source": [
    "# Tenure: Discrete\n",
    "# Total Charges: Continuous\n",
    "# Correlation: Yes\n",
    "stats.pearsonr(total_charges_nona.Tenure, total_charges_nona['Total Charges'])"
   ]
  },
  {
   "cell_type": "markdown",
   "id": "00894d34",
   "metadata": {},
   "source": [
    "##### 2c. What happens if you control for phone and internet service?"
   ]
  },
  {
   "cell_type": "code",
   "execution_count": 117,
   "id": "7132ab0e",
   "metadata": {
    "scrolled": true
   },
   "outputs": [
    {
     "data": {
      "text/plain": [
       "Fiber optic    3096\n",
       "DSL            2421\n",
       "No             1526\n",
       "Name: Internet Service, dtype: int64"
      ]
     },
     "execution_count": 117,
     "metadata": {},
     "output_type": "execute_result"
    }
   ],
   "source": [
    "# Internet Service\n",
    "# Phone Service\n",
    "# Correlation: Yes\n",
    "telco['Internet Service'].value_counts()"
   ]
  },
  {
   "cell_type": "code",
   "execution_count": 118,
   "id": "e0006289",
   "metadata": {},
   "outputs": [
    {
     "data": {
      "text/plain": [
       "Subscribed      6361\n",
       "Unsubscribed     682\n",
       "Name: Phone Service, dtype: int64"
      ]
     },
     "execution_count": 118,
     "metadata": {},
     "output_type": "execute_result"
    }
   ],
   "source": [
    "telco['Phone Service'].value_counts()"
   ]
  },
  {
   "cell_type": "code",
   "execution_count": 120,
   "id": "73a490be",
   "metadata": {},
   "outputs": [
    {
     "data": {
      "text/html": [
       "<div>\n",
       "<style scoped>\n",
       "    .dataframe tbody tr th:only-of-type {\n",
       "        vertical-align: middle;\n",
       "    }\n",
       "\n",
       "    .dataframe tbody tr th {\n",
       "        vertical-align: top;\n",
       "    }\n",
       "\n",
       "    .dataframe thead th {\n",
       "        text-align: right;\n",
       "    }\n",
       "</style>\n",
       "<table border=\"1\" class=\"dataframe\">\n",
       "  <thead>\n",
       "    <tr style=\"text-align: right;\">\n",
       "      <th>Phone Service</th>\n",
       "      <th>Subscribed</th>\n",
       "      <th>Unsubscribed</th>\n",
       "    </tr>\n",
       "    <tr>\n",
       "      <th>Internet Service</th>\n",
       "      <th></th>\n",
       "      <th></th>\n",
       "    </tr>\n",
       "  </thead>\n",
       "  <tbody>\n",
       "    <tr>\n",
       "      <th>DSL</th>\n",
       "      <td>1739</td>\n",
       "      <td>682</td>\n",
       "    </tr>\n",
       "    <tr>\n",
       "      <th>Fiber optic</th>\n",
       "      <td>3096</td>\n",
       "      <td>0</td>\n",
       "    </tr>\n",
       "    <tr>\n",
       "      <th>No</th>\n",
       "      <td>1526</td>\n",
       "      <td>0</td>\n",
       "    </tr>\n",
       "  </tbody>\n",
       "</table>\n",
       "</div>"
      ],
      "text/plain": [
       "Phone Service     Subscribed  Unsubscribed\n",
       "Internet Service                          \n",
       "DSL                     1739           682\n",
       "Fiber optic             3096             0\n",
       "No                      1526             0"
      ]
     },
     "execution_count": 120,
     "metadata": {},
     "output_type": "execute_result"
    }
   ],
   "source": [
    "intphonecross = pd.crosstab(telco['Internet Service'], telco['Phone Service'])\n",
    "pd.crosstab(telco['Internet Service'], telco['Phone Service'])"
   ]
  },
  {
   "cell_type": "code",
   "execution_count": 121,
   "id": "bae9bb15",
   "metadata": {},
   "outputs": [
    {
     "data": {
      "text/plain": [
       "(1441.6233871976854,\n",
       " 0.0,\n",
       " 2,\n",
       " array([[2186.56552605,  234.43447395],\n",
       "        [2796.20275451,  299.79724549],\n",
       "        [1378.23171944,  147.76828056]]))"
      ]
     },
     "execution_count": 121,
     "metadata": {},
     "output_type": "execute_result"
    }
   ],
   "source": [
    "stats.chi2_contingency(intphonecross)"
   ]
  },
  {
   "cell_type": "markdown",
   "id": "11e60940",
   "metadata": {},
   "source": [
    "### 3. Use the employees database."
   ]
  },
  {
   "cell_type": "markdown",
   "id": "6f5270d5",
   "metadata": {},
   "source": [
    "##### 3a. Is there a relationship between how long an employee has been with the company and their salary?"
   ]
  },
  {
   "cell_type": "code",
   "execution_count": 200,
   "id": "f02b2038",
   "metadata": {},
   "outputs": [],
   "source": [
    "# Employeed Length\n",
    "#     fromdate - todate(now)\n",
    "# Salary\n",
    "#     maxsalary - minsalary\n",
    "# Titles\n",
    "#     SUM(titles)\n",
    "# Correlation: YEET\n",
    "employees = pd.read_sql(\n",
    "    '''\n",
    "    SELECT \n",
    "        A.emp_no, \n",
    "        A.empdiffday, \n",
    "        B.salarydiff, \n",
    "        C.totaltitles\n",
    "    FROM\n",
    "        (SELECT emp_no, DATEDIFF(NOW(), hire_date) AS empdiffday FROM employees) AS A,\n",
    "        (SELECT emp_no, (MAX(salary) - MIN(salary)) AS salarydiff FROM salaries GROUP BY emp_no) AS B,\n",
    "        (SELECT emp_no, COUNT(title) AS totaltitles FROM titles GROUP BY emp_no) AS C\n",
    "    LIMIT 300024    \n",
    "    ''', env.get_db_url('employees'))"
   ]
  },
  {
   "cell_type": "code",
   "execution_count": 201,
   "id": "730b62e4",
   "metadata": {},
   "outputs": [
    {
     "data": {
      "text/plain": [
       "(300024, 4)"
      ]
     },
     "execution_count": 201,
     "metadata": {},
     "output_type": "execute_result"
    }
   ],
   "source": [
    "employees.shape"
   ]
  },
  {
   "cell_type": "code",
   "execution_count": 202,
   "id": "47bdf479",
   "metadata": {},
   "outputs": [
    {
     "data": {
      "text/html": [
       "<div>\n",
       "<style scoped>\n",
       "    .dataframe tbody tr th:only-of-type {\n",
       "        vertical-align: middle;\n",
       "    }\n",
       "\n",
       "    .dataframe tbody tr th {\n",
       "        vertical-align: top;\n",
       "    }\n",
       "\n",
       "    .dataframe thead th {\n",
       "        text-align: right;\n",
       "    }\n",
       "</style>\n",
       "<table border=\"1\" class=\"dataframe\">\n",
       "  <thead>\n",
       "    <tr style=\"text-align: right;\">\n",
       "      <th></th>\n",
       "      <th>emp_no</th>\n",
       "      <th>empdiffday</th>\n",
       "      <th>salarydiff</th>\n",
       "      <th>totaltitles</th>\n",
       "    </tr>\n",
       "  </thead>\n",
       "  <tbody>\n",
       "    <tr>\n",
       "      <th>197795</th>\n",
       "      <td>31063</td>\n",
       "      <td>11796</td>\n",
       "      <td>7046</td>\n",
       "      <td>1</td>\n",
       "    </tr>\n",
       "    <tr>\n",
       "      <th>35401</th>\n",
       "      <td>38865</td>\n",
       "      <td>10957</td>\n",
       "      <td>3693</td>\n",
       "      <td>1</td>\n",
       "    </tr>\n",
       "    <tr>\n",
       "      <th>257031</th>\n",
       "      <td>37931</td>\n",
       "      <td>11024</td>\n",
       "      <td>7017</td>\n",
       "      <td>1</td>\n",
       "    </tr>\n",
       "    <tr>\n",
       "      <th>158645</th>\n",
       "      <td>31189</td>\n",
       "      <td>12766</td>\n",
       "      <td>28901</td>\n",
       "      <td>1</td>\n",
       "    </tr>\n",
       "    <tr>\n",
       "      <th>286097</th>\n",
       "      <td>40813</td>\n",
       "      <td>12469</td>\n",
       "      <td>1413</td>\n",
       "      <td>1</td>\n",
       "    </tr>\n",
       "  </tbody>\n",
       "</table>\n",
       "</div>"
      ],
      "text/plain": [
       "        emp_no  empdiffday  salarydiff  totaltitles\n",
       "197795   31063       11796        7046            1\n",
       "35401    38865       10957        3693            1\n",
       "257031   37931       11024        7017            1\n",
       "158645   31189       12766       28901            1\n",
       "286097   40813       12469        1413            1"
      ]
     },
     "execution_count": 202,
     "metadata": {},
     "output_type": "execute_result"
    }
   ],
   "source": [
    "employees.sample(5)"
   ]
  },
  {
   "cell_type": "code",
   "execution_count": 203,
   "id": "37aebe08",
   "metadata": {},
   "outputs": [
    {
     "data": {
      "text/plain": [
       "PearsonRResult(statistic=0.00011117410060224185, pvalue=0.9514430346501251)"
      ]
     },
     "execution_count": 203,
     "metadata": {},
     "output_type": "execute_result"
    }
   ],
   "source": [
    "stats.pearsonr(employees.empdiffday, employees.salarydiff)"
   ]
  },
  {
   "cell_type": "markdown",
   "id": "ce8fd387",
   "metadata": {},
   "source": [
    "##### 3b. Is there a relationship between how long an employee has been with the company and the number of titles they have had?"
   ]
  },
  {
   "cell_type": "code",
   "execution_count": 204,
   "id": "74998044",
   "metadata": {},
   "outputs": [
    {
     "data": {
      "text/plain": [
       "1    300024\n",
       "Name: totaltitles, dtype: int64"
      ]
     },
     "execution_count": 204,
     "metadata": {},
     "output_type": "execute_result"
    }
   ],
   "source": [
    "employees.totaltitles.value_counts()"
   ]
  },
  {
   "cell_type": "code",
   "execution_count": 206,
   "id": "4879b46b",
   "metadata": {},
   "outputs": [],
   "source": [
    "test = pd.read_sql(\n",
    "    '''\n",
    "    SELECT emp_no, COUNT(title)\n",
    "    FROM titles\n",
    "    GROUP BY emp_no\n",
    "    ''', env.get_db_url('employees'))"
   ]
  },
  {
   "cell_type": "code",
   "execution_count": 210,
   "id": "0b465e3c",
   "metadata": {},
   "outputs": [
    {
     "data": {
      "text/html": [
       "<div>\n",
       "<style scoped>\n",
       "    .dataframe tbody tr th:only-of-type {\n",
       "        vertical-align: middle;\n",
       "    }\n",
       "\n",
       "    .dataframe tbody tr th {\n",
       "        vertical-align: top;\n",
       "    }\n",
       "\n",
       "    .dataframe thead th {\n",
       "        text-align: right;\n",
       "    }\n",
       "</style>\n",
       "<table border=\"1\" class=\"dataframe\">\n",
       "  <thead>\n",
       "    <tr style=\"text-align: right;\">\n",
       "      <th></th>\n",
       "      <th>emp_no</th>\n",
       "      <th>COUNT(title)</th>\n",
       "    </tr>\n",
       "  </thead>\n",
       "  <tbody>\n",
       "    <tr>\n",
       "      <th>0</th>\n",
       "      <td>10001</td>\n",
       "      <td>1</td>\n",
       "    </tr>\n",
       "    <tr>\n",
       "      <th>1</th>\n",
       "      <td>10002</td>\n",
       "      <td>1</td>\n",
       "    </tr>\n",
       "    <tr>\n",
       "      <th>2</th>\n",
       "      <td>10003</td>\n",
       "      <td>1</td>\n",
       "    </tr>\n",
       "    <tr>\n",
       "      <th>3</th>\n",
       "      <td>10004</td>\n",
       "      <td>2</td>\n",
       "    </tr>\n",
       "    <tr>\n",
       "      <th>4</th>\n",
       "      <td>10005</td>\n",
       "      <td>2</td>\n",
       "    </tr>\n",
       "    <tr>\n",
       "      <th>...</th>\n",
       "      <td>...</td>\n",
       "      <td>...</td>\n",
       "    </tr>\n",
       "    <tr>\n",
       "      <th>300019</th>\n",
       "      <td>499995</td>\n",
       "      <td>1</td>\n",
       "    </tr>\n",
       "    <tr>\n",
       "      <th>300020</th>\n",
       "      <td>499996</td>\n",
       "      <td>2</td>\n",
       "    </tr>\n",
       "    <tr>\n",
       "      <th>300021</th>\n",
       "      <td>499997</td>\n",
       "      <td>2</td>\n",
       "    </tr>\n",
       "    <tr>\n",
       "      <th>300022</th>\n",
       "      <td>499998</td>\n",
       "      <td>2</td>\n",
       "    </tr>\n",
       "    <tr>\n",
       "      <th>300023</th>\n",
       "      <td>499999</td>\n",
       "      <td>1</td>\n",
       "    </tr>\n",
       "  </tbody>\n",
       "</table>\n",
       "<p>300024 rows × 2 columns</p>\n",
       "</div>"
      ],
      "text/plain": [
       "        emp_no  COUNT(title)\n",
       "0        10001             1\n",
       "1        10002             1\n",
       "2        10003             1\n",
       "3        10004             2\n",
       "4        10005             2\n",
       "...        ...           ...\n",
       "300019  499995             1\n",
       "300020  499996             2\n",
       "300021  499997             2\n",
       "300022  499998             2\n",
       "300023  499999             1\n",
       "\n",
       "[300024 rows x 2 columns]"
      ]
     },
     "execution_count": 210,
     "metadata": {},
     "output_type": "execute_result"
    }
   ],
   "source": [
    "test"
   ]
  },
  {
   "cell_type": "code",
   "execution_count": 213,
   "id": "49cb0c65",
   "metadata": {},
   "outputs": [
    {
     "data": {
      "text/plain": [
       "PearsonRResult(statistic=0.0014090830341339786, pvalue=0.4402242423263949)"
      ]
     },
     "execution_count": 213,
     "metadata": {},
     "output_type": "execute_result"
    }
   ],
   "source": [
    "# Employeed Length\n",
    "# Total Titles\n",
    "# Correlation: YEET (Not sure why had to make title separate)\n",
    "stats.pearsonr(employees.empdiffday, test['COUNT(title)'])"
   ]
  },
  {
   "cell_type": "markdown",
   "id": "33cb4c21",
   "metadata": {},
   "source": [
    "### 4. Use the sleepstudy data."
   ]
  },
  {
   "cell_type": "markdown",
   "id": "de1f97ff",
   "metadata": {},
   "source": [
    "##### 4a. Is there a relationship between days and reaction time?"
   ]
  },
  {
   "cell_type": "code",
   "execution_count": 123,
   "id": "93296e5e",
   "metadata": {},
   "outputs": [],
   "source": [
    "slpstdy = data('sleepstudy')"
   ]
  },
  {
   "cell_type": "code",
   "execution_count": 125,
   "id": "9952d0d6",
   "metadata": {},
   "outputs": [
    {
     "data": {
      "text/plain": [
       "PearsonRResult(statistic=0.5352302262650253, pvalue=9.894096322214812e-15)"
      ]
     },
     "execution_count": 125,
     "metadata": {},
     "output_type": "execute_result"
    }
   ],
   "source": [
    "# Correlation: Yes\n",
    "stats.pearsonr(slpstdy.Days, slpstdy.Reaction)"
   ]
  },
  {
   "cell_type": "markdown",
   "id": "f8b50fa5",
   "metadata": {},
   "source": [
    "# =======================================================================================================\n",
    "# Correlation (4) END\n",
    "# Correlation (4) TO Comparison of Groups (4)\n",
    "# Comparison of Groups (4) START\n",
    "# ======================================================================================================="
   ]
  },
  {
   "cell_type": "markdown",
   "id": "8855f0ba",
   "metadata": {},
   "source": [
    "### 1. Answer with the type of stats test you would use (assume normal distribution):"
   ]
  },
  {
   "cell_type": "markdown",
   "id": "fa1650f9",
   "metadata": {},
   "source": [
    "##### 1a. Do students get better test grades if they have a rubber duck on their desk?"
   ]
  },
  {
   "cell_type": "code",
   "execution_count": null,
   "id": "37c3987d",
   "metadata": {},
   "outputs": [],
   "source": []
  },
  {
   "cell_type": "markdown",
   "id": "21a04b1a",
   "metadata": {},
   "source": [
    "##### 1b. Does smoking affect when or not someone has lung cancer?"
   ]
  },
  {
   "cell_type": "code",
   "execution_count": null,
   "id": "e9ca470b",
   "metadata": {},
   "outputs": [],
   "source": []
  },
  {
   "cell_type": "markdown",
   "id": "7782ba04",
   "metadata": {},
   "source": [
    "##### 1c. Is gender independent of a person’s blood type?"
   ]
  },
  {
   "cell_type": "code",
   "execution_count": null,
   "id": "7be991e4",
   "metadata": {},
   "outputs": [],
   "source": []
  },
  {
   "cell_type": "markdown",
   "id": "ec1d56f0",
   "metadata": {},
   "source": [
    "##### 1d. A farming company wants to know if a new fertilizer has improved crop yield or not"
   ]
  },
  {
   "cell_type": "code",
   "execution_count": null,
   "id": "240f6be2",
   "metadata": {},
   "outputs": [],
   "source": []
  },
  {
   "cell_type": "markdown",
   "id": "43c08294",
   "metadata": {},
   "source": [
    "##### 1e. Does the length of time of the lecture correlate with a students grade?"
   ]
  },
  {
   "cell_type": "code",
   "execution_count": null,
   "id": "2fe203d7",
   "metadata": {},
   "outputs": [],
   "source": []
  },
  {
   "cell_type": "markdown",
   "id": "d8d949fb",
   "metadata": {},
   "source": [
    "##### 1f. Do people with dogs live in apartments more than people with cats?"
   ]
  },
  {
   "cell_type": "code",
   "execution_count": null,
   "id": "21646477",
   "metadata": {},
   "outputs": [],
   "source": []
  },
  {
   "cell_type": "markdown",
   "id": "d40de498",
   "metadata": {},
   "source": [
    "### 2. Use the following contingency table to help answer the question of whether using a macbook and being a codeup student are independent of each other."
   ]
  },
  {
   "cell_type": "markdown",
   "id": "0b796c6d",
   "metadata": {},
   "source": [
    "| | Codeup Student | Not Codeup Student |\n",
    "| ----- | ------ | ------ |\n",
    "| Uses a Macbook | 49 | 20 |\n",
    "| Doesn't Use A Macbook\t| 1\t| 30 |"
   ]
  },
  {
   "cell_type": "code",
   "execution_count": null,
   "id": "40370b8b",
   "metadata": {},
   "outputs": [],
   "source": []
  },
  {
   "cell_type": "markdown",
   "id": "9fe085cd",
   "metadata": {},
   "source": [
    "### 3. Choose another 2 categorical variables from the mpg dataset and perform a chi^2 contingency table test with them. Be sure to state your null and alternative hypotheses."
   ]
  },
  {
   "cell_type": "code",
   "execution_count": null,
   "id": "584971fc",
   "metadata": {},
   "outputs": [],
   "source": []
  },
  {
   "cell_type": "markdown",
   "id": "5462467b",
   "metadata": {},
   "source": [
    "### 4. Use the data from the employees database to answer these questions:"
   ]
  },
  {
   "cell_type": "markdown",
   "id": "f06a98a8",
   "metadata": {},
   "source": [
    "##### 4a. Is an employee's gender independent of whether an employee works in sales or marketing? (only look at current employees)"
   ]
  },
  {
   "cell_type": "code",
   "execution_count": null,
   "id": "bdfead9e",
   "metadata": {},
   "outputs": [],
   "source": []
  },
  {
   "cell_type": "markdown",
   "id": "b594f947",
   "metadata": {},
   "source": [
    "##### 4b. Is an employee's gender independent of whether or not they are or have been a manager?"
   ]
  },
  {
   "cell_type": "code",
   "execution_count": null,
   "id": "e5dd04a7",
   "metadata": {},
   "outputs": [],
   "source": []
  },
  {
   "cell_type": "markdown",
   "id": "a96e8230",
   "metadata": {},
   "source": [
    "# =======================================================================================================\n",
    "# Comparison of Groups (4) END\n",
    "# Comparison of Groups (4) TO More Examples\n",
    "# More Examples START\n",
    "# ======================================================================================================="
   ]
  },
  {
   "cell_type": "markdown",
   "id": "37e4fc18",
   "metadata": {},
   "source": [
    "##### Choose several continous and categorical variables that were not covered in the lesson and perform each type of test on them. You may use another data set if you wish."
   ]
  },
  {
   "cell_type": "code",
   "execution_count": null,
   "id": "c48dbddf",
   "metadata": {},
   "outputs": [],
   "source": []
  },
  {
   "cell_type": "markdown",
   "id": "2c03e7ba",
   "metadata": {},
   "source": [
    "# =======================================================================================================\n",
    "# More Examples END\n",
    "# ======================================================================================================="
   ]
  }
 ],
 "metadata": {
  "kernelspec": {
   "display_name": "Python 3 (ipykernel)",
   "language": "python",
   "name": "python3"
  },
  "language_info": {
   "codemirror_mode": {
    "name": "ipython",
    "version": 3
   },
   "file_extension": ".py",
   "mimetype": "text/x-python",
   "name": "python",
   "nbconvert_exporter": "python",
   "pygments_lexer": "ipython3",
   "version": "3.9.13"
  }
 },
 "nbformat": 4,
 "nbformat_minor": 5
}
